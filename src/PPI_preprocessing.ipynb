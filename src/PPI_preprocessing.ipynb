{
 "cells": [
  {
   "cell_type": "code",
   "execution_count": 1,
   "id": "92c9d3ba",
   "metadata": {},
   "outputs": [],
   "source": [
    "import pandas as pd\n",
    "import networkx as nx\n",
    "import os.path as osp\n",
    "\n",
    "import torch\n",
    "import torch_geometric\n",
    "from torch_geometric.data import Dataset, download_url\n",
    "from torch_geometric.utils.convert import from_networkx\n",
    "import numpy as np\n",
    "\n",
    "from node2vec import Node2Vec\n",
    "from gensim.models import Word2Vec\n",
    "\n",
    "import torch.nn.functional as F\n",
    "from torch_geometric.nn import GCNConv\n",
    "from torch_geometric.nn import GAE\n",
    "from torch.utils.tensorboard import SummaryWriter\n",
    "from torch_geometric.nn.models.autoencoder import ARGVA\n",
    "\n",
    "from torch_geometric.transforms import RandomLinkSplit"
   ]
  },
  {
   "cell_type": "code",
   "execution_count": 2,
   "id": "55365ff6",
   "metadata": {},
   "outputs": [
    {
     "name": "stderr",
     "output_type": "stream",
     "text": [
      "c:\\users\\calni\\appdata\\local\\programs\\python\\python39\\lib\\site-packages\\IPython\\core\\interactiveshell.py:3441: DtypeWarning: Columns (1,2,18) have mixed types.Specify dtype option on import or set low_memory=False.\n",
      "  exec(code_obj, self.user_global_ns, self.user_ns)\n"
     ]
    }
   ],
   "source": [
    "df=pd.read_csv('./BIOGRID-ORGANISM-4.4.208.tab3/BIOGRID-ORGANISM-Homo_sapiens-4.4.208.tab3.txt', sep=\"\\t\")"
   ]
  },
  {
   "cell_type": "code",
   "execution_count": 3,
   "id": "3f9948e5",
   "metadata": {},
   "outputs": [
    {
     "data": {
      "text/plain": [
       "(1005589, 37)"
      ]
     },
     "execution_count": 3,
     "metadata": {},
     "output_type": "execute_result"
    }
   ],
   "source": [
    "df.shape"
   ]
  },
  {
   "cell_type": "code",
   "execution_count": 4,
   "id": "0e59e64a",
   "metadata": {},
   "outputs": [],
   "source": [
    "df_homo=df.loc[(df['Organism ID Interactor A']==9606) & (df['Organism ID Interactor B']==9606)]"
   ]
  },
  {
   "cell_type": "code",
   "execution_count": 5,
   "id": "ea9f777e",
   "metadata": {},
   "outputs": [
    {
     "data": {
      "text/plain": [
       "(936634, 37)"
      ]
     },
     "execution_count": 5,
     "metadata": {},
     "output_type": "execute_result"
    }
   ],
   "source": [
    "df_homo.shape"
   ]
  },
  {
   "cell_type": "code",
   "execution_count": 6,
   "id": "1fd8be6f",
   "metadata": {},
   "outputs": [
    {
     "data": {
      "text/plain": [
       "Index(['#BioGRID Interaction ID', 'Entrez Gene Interactor A',\n",
       "       'Entrez Gene Interactor B', 'BioGRID ID Interactor A',\n",
       "       'BioGRID ID Interactor B', 'Systematic Name Interactor A',\n",
       "       'Systematic Name Interactor B', 'Official Symbol Interactor A',\n",
       "       'Official Symbol Interactor B', 'Synonyms Interactor A',\n",
       "       'Synonyms Interactor B', 'Experimental System',\n",
       "       'Experimental System Type', 'Author', 'Publication Source',\n",
       "       'Organism ID Interactor A', 'Organism ID Interactor B', 'Throughput',\n",
       "       'Score', 'Modification', 'Qualifications', 'Tags', 'Source Database',\n",
       "       'SWISS-PROT Accessions Interactor A', 'TREMBL Accessions Interactor A',\n",
       "       'REFSEQ Accessions Interactor A', 'SWISS-PROT Accessions Interactor B',\n",
       "       'TREMBL Accessions Interactor B', 'REFSEQ Accessions Interactor B',\n",
       "       'Ontology Term IDs', 'Ontology Term Names', 'Ontology Term Categories',\n",
       "       'Ontology Term Qualifier IDs', 'Ontology Term Qualifier Names',\n",
       "       'Ontology Term Types', 'Organism Name Interactor A',\n",
       "       'Organism Name Interactor B'],\n",
       "      dtype='object')"
      ]
     },
     "execution_count": 6,
     "metadata": {},
     "output_type": "execute_result"
    }
   ],
   "source": [
    "df_homo.columns"
   ]
  },
  {
   "cell_type": "code",
   "execution_count": 7,
   "id": "639b6d19",
   "metadata": {},
   "outputs": [
    {
     "data": {
      "text/html": [
       "<div>\n",
       "<style scoped>\n",
       "    .dataframe tbody tr th:only-of-type {\n",
       "        vertical-align: middle;\n",
       "    }\n",
       "\n",
       "    .dataframe tbody tr th {\n",
       "        vertical-align: top;\n",
       "    }\n",
       "\n",
       "    .dataframe thead th {\n",
       "        text-align: right;\n",
       "    }\n",
       "</style>\n",
       "<table border=\"1\" class=\"dataframe\">\n",
       "  <thead>\n",
       "    <tr style=\"text-align: right;\">\n",
       "      <th></th>\n",
       "      <th>Ontology Term IDs</th>\n",
       "      <th>Ontology Term Names</th>\n",
       "      <th>Ontology Term Categories</th>\n",
       "      <th>Ontology Term Qualifier IDs</th>\n",
       "      <th>Ontology Term Qualifier Names</th>\n",
       "      <th>Ontology Term Types</th>\n",
       "    </tr>\n",
       "  </thead>\n",
       "  <tbody>\n",
       "    <tr>\n",
       "      <th>0</th>\n",
       "      <td>-</td>\n",
       "      <td>-</td>\n",
       "      <td>-</td>\n",
       "      <td>-</td>\n",
       "      <td>-</td>\n",
       "      <td>-</td>\n",
       "    </tr>\n",
       "    <tr>\n",
       "      <th>1</th>\n",
       "      <td>-</td>\n",
       "      <td>-</td>\n",
       "      <td>-</td>\n",
       "      <td>-</td>\n",
       "      <td>-</td>\n",
       "      <td>-</td>\n",
       "    </tr>\n",
       "    <tr>\n",
       "      <th>2</th>\n",
       "      <td>-</td>\n",
       "      <td>-</td>\n",
       "      <td>-</td>\n",
       "      <td>-</td>\n",
       "      <td>-</td>\n",
       "      <td>-</td>\n",
       "    </tr>\n",
       "    <tr>\n",
       "      <th>3</th>\n",
       "      <td>-</td>\n",
       "      <td>-</td>\n",
       "      <td>-</td>\n",
       "      <td>-</td>\n",
       "      <td>-</td>\n",
       "      <td>-</td>\n",
       "    </tr>\n",
       "    <tr>\n",
       "      <th>4</th>\n",
       "      <td>-</td>\n",
       "      <td>-</td>\n",
       "      <td>-</td>\n",
       "      <td>-</td>\n",
       "      <td>-</td>\n",
       "      <td>-</td>\n",
       "    </tr>\n",
       "    <tr>\n",
       "      <th>...</th>\n",
       "      <td>...</td>\n",
       "      <td>...</td>\n",
       "      <td>...</td>\n",
       "      <td>...</td>\n",
       "      <td>...</td>\n",
       "      <td>...</td>\n",
       "    </tr>\n",
       "    <tr>\n",
       "      <th>1005584</th>\n",
       "      <td>-</td>\n",
       "      <td>-</td>\n",
       "      <td>-</td>\n",
       "      <td>-</td>\n",
       "      <td>-</td>\n",
       "      <td>-</td>\n",
       "    </tr>\n",
       "    <tr>\n",
       "      <th>1005585</th>\n",
       "      <td>-</td>\n",
       "      <td>-</td>\n",
       "      <td>-</td>\n",
       "      <td>-</td>\n",
       "      <td>-</td>\n",
       "      <td>-</td>\n",
       "    </tr>\n",
       "    <tr>\n",
       "      <th>1005586</th>\n",
       "      <td>-</td>\n",
       "      <td>-</td>\n",
       "      <td>-</td>\n",
       "      <td>-</td>\n",
       "      <td>-</td>\n",
       "      <td>-</td>\n",
       "    </tr>\n",
       "    <tr>\n",
       "      <th>1005587</th>\n",
       "      <td>-</td>\n",
       "      <td>-</td>\n",
       "      <td>-</td>\n",
       "      <td>-</td>\n",
       "      <td>-</td>\n",
       "      <td>-</td>\n",
       "    </tr>\n",
       "    <tr>\n",
       "      <th>1005588</th>\n",
       "      <td>-</td>\n",
       "      <td>-</td>\n",
       "      <td>-</td>\n",
       "      <td>-</td>\n",
       "      <td>-</td>\n",
       "      <td>-</td>\n",
       "    </tr>\n",
       "  </tbody>\n",
       "</table>\n",
       "<p>936634 rows × 6 columns</p>\n",
       "</div>"
      ],
      "text/plain": [
       "        Ontology Term IDs Ontology Term Names Ontology Term Categories  \\\n",
       "0                       -                   -                        -   \n",
       "1                       -                   -                        -   \n",
       "2                       -                   -                        -   \n",
       "3                       -                   -                        -   \n",
       "4                       -                   -                        -   \n",
       "...                   ...                 ...                      ...   \n",
       "1005584                 -                   -                        -   \n",
       "1005585                 -                   -                        -   \n",
       "1005586                 -                   -                        -   \n",
       "1005587                 -                   -                        -   \n",
       "1005588                 -                   -                        -   \n",
       "\n",
       "        Ontology Term Qualifier IDs Ontology Term Qualifier Names  \\\n",
       "0                                 -                             -   \n",
       "1                                 -                             -   \n",
       "2                                 -                             -   \n",
       "3                                 -                             -   \n",
       "4                                 -                             -   \n",
       "...                             ...                           ...   \n",
       "1005584                           -                             -   \n",
       "1005585                           -                             -   \n",
       "1005586                           -                             -   \n",
       "1005587                           -                             -   \n",
       "1005588                           -                             -   \n",
       "\n",
       "        Ontology Term Types  \n",
       "0                         -  \n",
       "1                         -  \n",
       "2                         -  \n",
       "3                         -  \n",
       "4                         -  \n",
       "...                     ...  \n",
       "1005584                   -  \n",
       "1005585                   -  \n",
       "1005586                   -  \n",
       "1005587                   -  \n",
       "1005588                   -  \n",
       "\n",
       "[936634 rows x 6 columns]"
      ]
     },
     "execution_count": 7,
     "metadata": {},
     "output_type": "execute_result"
    }
   ],
   "source": [
    "df_homo[['Ontology Term IDs', 'Ontology Term Names', 'Ontology Term Categories',\n",
    "       'Ontology Term Qualifier IDs', 'Ontology Term Qualifier Names',\n",
    "       'Ontology Term Types']]"
   ]
  },
  {
   "cell_type": "code",
   "execution_count": 35,
   "id": "d9ed9909",
   "metadata": {},
   "outputs": [
    {
     "data": {
      "text/html": [
       "<div>\n",
       "<style scoped>\n",
       "    .dataframe tbody tr th:only-of-type {\n",
       "        vertical-align: middle;\n",
       "    }\n",
       "\n",
       "    .dataframe tbody tr th {\n",
       "        vertical-align: top;\n",
       "    }\n",
       "\n",
       "    .dataframe thead th {\n",
       "        text-align: right;\n",
       "    }\n",
       "</style>\n",
       "<table border=\"1\" class=\"dataframe\">\n",
       "  <thead>\n",
       "    <tr style=\"text-align: right;\">\n",
       "      <th></th>\n",
       "      <th>#BioGRID Interaction ID</th>\n",
       "      <th>Entrez Gene Interactor A</th>\n",
       "      <th>Entrez Gene Interactor B</th>\n",
       "      <th>BioGRID ID Interactor A</th>\n",
       "      <th>BioGRID ID Interactor B</th>\n",
       "      <th>Systematic Name Interactor A</th>\n",
       "      <th>Systematic Name Interactor B</th>\n",
       "      <th>Official Symbol Interactor A</th>\n",
       "      <th>Official Symbol Interactor B</th>\n",
       "      <th>Synonyms Interactor A</th>\n",
       "      <th>...</th>\n",
       "      <th>TREMBL Accessions Interactor B</th>\n",
       "      <th>REFSEQ Accessions Interactor B</th>\n",
       "      <th>Ontology Term IDs</th>\n",
       "      <th>Ontology Term Names</th>\n",
       "      <th>Ontology Term Categories</th>\n",
       "      <th>Ontology Term Qualifier IDs</th>\n",
       "      <th>Ontology Term Qualifier Names</th>\n",
       "      <th>Ontology Term Types</th>\n",
       "      <th>Organism Name Interactor A</th>\n",
       "      <th>Organism Name Interactor B</th>\n",
       "    </tr>\n",
       "  </thead>\n",
       "  <tbody>\n",
       "    <tr>\n",
       "      <th>115451</th>\n",
       "      <td>728984</td>\n",
       "      <td>26270</td>\n",
       "      <td>79709</td>\n",
       "      <td>117654</td>\n",
       "      <td>122826</td>\n",
       "      <td>RP3-330O12.3</td>\n",
       "      <td>PSEC0241</td>\n",
       "      <td>FBXO6</td>\n",
       "      <td>COLGALT1</td>\n",
       "      <td>FBG2|FBS2|FBX6|Fbx6b</td>\n",
       "      <td>...</td>\n",
       "      <td>-</td>\n",
       "      <td>NP_078932</td>\n",
       "      <td>BTO:0000007|BTO:0000567|DOID:3702|BTO:0000661|...</td>\n",
       "      <td>HEK-293 cell|HeLa cell|cervical adenocarcinoma...</td>\n",
       "      <td>cell line|cell line|disease|cell line|disease</td>\n",
       "      <td>-|-|-|-|-</td>\n",
       "      <td>-|-|-|-|-</td>\n",
       "      <td>-|-|-|-|-</td>\n",
       "      <td>Homo sapiens</td>\n",
       "      <td>Homo sapiens</td>\n",
       "    </tr>\n",
       "    <tr>\n",
       "      <th>115461</th>\n",
       "      <td>728994</td>\n",
       "      <td>26270</td>\n",
       "      <td>4001</td>\n",
       "      <td>117654</td>\n",
       "      <td>110187</td>\n",
       "      <td>RP3-330O12.3</td>\n",
       "      <td>-</td>\n",
       "      <td>FBXO6</td>\n",
       "      <td>LMNB1</td>\n",
       "      <td>FBG2|FBS2|FBX6|Fbx6b</td>\n",
       "      <td>...</td>\n",
       "      <td>B4DZT3</td>\n",
       "      <td>NP_001185486|NP_005564</td>\n",
       "      <td>BTO:0000007|BTO:0000567|DOID:3702|BTO:0000661|...</td>\n",
       "      <td>HEK-293 cell|HeLa cell|cervical adenocarcinoma...</td>\n",
       "      <td>cell line|cell line|disease|cell line|disease</td>\n",
       "      <td>-|-|-|-|-</td>\n",
       "      <td>-|-|-|-|-</td>\n",
       "      <td>-|-|-|-|-</td>\n",
       "      <td>Homo sapiens</td>\n",
       "      <td>Homo sapiens</td>\n",
       "    </tr>\n",
       "  </tbody>\n",
       "</table>\n",
       "<p>2 rows × 37 columns</p>\n",
       "</div>"
      ],
      "text/plain": [
       "        #BioGRID Interaction ID Entrez Gene Interactor A  \\\n",
       "115451                   728984                    26270   \n",
       "115461                   728994                    26270   \n",
       "\n",
       "       Entrez Gene Interactor B  BioGRID ID Interactor A  \\\n",
       "115451                    79709                   117654   \n",
       "115461                     4001                   117654   \n",
       "\n",
       "        BioGRID ID Interactor B Systematic Name Interactor A  \\\n",
       "115451                   122826                 RP3-330O12.3   \n",
       "115461                   110187                 RP3-330O12.3   \n",
       "\n",
       "       Systematic Name Interactor B Official Symbol Interactor A  \\\n",
       "115451                     PSEC0241                        FBXO6   \n",
       "115461                            -                        FBXO6   \n",
       "\n",
       "       Official Symbol Interactor B Synonyms Interactor A  ...  \\\n",
       "115451                     COLGALT1  FBG2|FBS2|FBX6|Fbx6b  ...   \n",
       "115461                        LMNB1  FBG2|FBS2|FBX6|Fbx6b  ...   \n",
       "\n",
       "       TREMBL Accessions Interactor B REFSEQ Accessions Interactor B  \\\n",
       "115451                              -                      NP_078932   \n",
       "115461                         B4DZT3         NP_001185486|NP_005564   \n",
       "\n",
       "                                        Ontology Term IDs  \\\n",
       "115451  BTO:0000007|BTO:0000567|DOID:3702|BTO:0000661|...   \n",
       "115461  BTO:0000007|BTO:0000567|DOID:3702|BTO:0000661|...   \n",
       "\n",
       "                                      Ontology Term Names  \\\n",
       "115451  HEK-293 cell|HeLa cell|cervical adenocarcinoma...   \n",
       "115461  HEK-293 cell|HeLa cell|cervical adenocarcinoma...   \n",
       "\n",
       "                             Ontology Term Categories  \\\n",
       "115451  cell line|cell line|disease|cell line|disease   \n",
       "115461  cell line|cell line|disease|cell line|disease   \n",
       "\n",
       "        Ontology Term Qualifier IDs  Ontology Term Qualifier Names  \\\n",
       "115451                    -|-|-|-|-                      -|-|-|-|-   \n",
       "115461                    -|-|-|-|-                      -|-|-|-|-   \n",
       "\n",
       "       Ontology Term Types Organism Name Interactor A  \\\n",
       "115451           -|-|-|-|-               Homo sapiens   \n",
       "115461           -|-|-|-|-               Homo sapiens   \n",
       "\n",
       "       Organism Name Interactor B  \n",
       "115451               Homo sapiens  \n",
       "115461               Homo sapiens  \n",
       "\n",
       "[2 rows x 37 columns]"
      ]
     },
     "execution_count": 35,
     "metadata": {},
     "output_type": "execute_result"
    }
   ],
   "source": [
    "df_homo[df_homo['Ontology Term IDs']=='BTO:0000007|BTO:0000567|DOID:3702|BTO:0000661|DOID:715']"
   ]
  },
  {
   "cell_type": "code",
   "execution_count": 30,
   "id": "f3db02dc",
   "metadata": {},
   "outputs": [
    {
     "data": {
      "text/plain": [
       "{'-',\n",
       " 'APO:0000022',\n",
       " 'APO:0000050',\n",
       " 'APO:0000054',\n",
       " 'APO:0000058',\n",
       " 'APO:0000095',\n",
       " 'APO:0000106',\n",
       " 'APO:0000106|APO:0000111',\n",
       " 'APO:0000106|APO:0000147',\n",
       " 'APO:0000111',\n",
       " 'APO:0000143',\n",
       " 'APO:0000144',\n",
       " 'APO:0000149',\n",
       " 'APO:0000155',\n",
       " 'APO:0000208|APO:0000106',\n",
       " 'APO:0000209',\n",
       " 'BIOGRID:0000011',\n",
       " 'BIOGRID:0000011|BTO:0002181',\n",
       " 'BTO:0000007',\n",
       " 'BTO:0000007|BTO:0000567',\n",
       " 'BTO:0000007|BTO:0000567|DOID:3702',\n",
       " 'BTO:0000007|BTO:0000567|DOID:3702|BTO:0000661|DOID:715',\n",
       " 'BTO:0000007|BTO:0000661|DOID:715',\n",
       " 'BTO:0000007|BTO:0000661|DOID:715|BTO:0000567|DOID:3702',\n",
       " 'BTO:0000007|BTO:0001025',\n",
       " 'BTO:0000007|BTO:0001109',\n",
       " 'BTO:0000007|DOID:3702|BTO:0000567',\n",
       " 'BTO:0000007|DOID:3702|BTO:0000567|DOID:715|BTO:0000661',\n",
       " 'BTO:0000007|DOID:3702|BTO:0000661|BTO:0000567|DOID:715',\n",
       " 'BTO:0000007|DOID:715|BTO:0000661',\n",
       " 'BTO:0000007|DOID:715|BTO:0000661|DOID:3702|BTO:0000567',\n",
       " 'BTO:0000017',\n",
       " 'BTO:0000017|DOID:3151',\n",
       " 'BTO:0000018',\n",
       " 'BTO:0000018|BTO:0000017',\n",
       " 'BTO:0000018|BTO:0000567|HP:0001507|PATO:0000169',\n",
       " 'BTO:0000018|BTO:0000567|PATO:0000169|HP:0001507',\n",
       " 'BTO:0000018|HP:0001507|PATO:0000169',\n",
       " 'BTO:0000018|PATO:0000169|HP:0001507',\n",
       " 'BTO:0000018|PATO:0000169|HP:0001507|BTO:0000567',\n",
       " 'BTO:0000089',\n",
       " 'BTO:0000089|UBERON:0000178',\n",
       " 'BTO:0000093',\n",
       " 'BTO:0000093|BTO:0001248',\n",
       " 'BTO:0000093|DOID:0050671',\n",
       " 'BTO:0000093|DOID:3458',\n",
       " 'BTO:0000131',\n",
       " 'BTO:0000131|UBERON:0001969',\n",
       " 'BTO:0000132',\n",
       " 'BTO:0000132|CHEBI:18320|CL:0000233',\n",
       " 'BTO:0000132|CL:0000233',\n",
       " 'BTO:0000135|CL:0002544|UBERON:0004851|BTO:0003245',\n",
       " 'BTO:0000142',\n",
       " 'BTO:0000142|UBERON:0000955',\n",
       " 'BTO:0000142|UBERON:0000955|CL:0000127',\n",
       " 'BTO:0000182',\n",
       " 'BTO:0000182|BTO:0000007|BTO:0000666',\n",
       " 'BTO:0000182|BTO:0000666|BTO:0000007',\n",
       " 'BTO:0000182|BTO:0001914|BTO:0002750',\n",
       " 'BTO:0000182|BTO:0002750',\n",
       " 'BTO:0000182|BTO:0002750|BTO:0001914',\n",
       " 'BTO:0000195',\n",
       " 'BTO:0000199|UBERON:0001133',\n",
       " 'BTO:0000298',\n",
       " 'BTO:0000331',\n",
       " 'BTO:0000396',\n",
       " 'BTO:0000567',\n",
       " 'BTO:0000567|BTO:0000007',\n",
       " 'BTO:0000567|BTO:0000007|DOID:3702',\n",
       " 'BTO:0000567|BTO:0000018|HP:0001507|PATO:0000169',\n",
       " 'BTO:0000567|BTO:0000018|PATO:0000169|HP:0001507',\n",
       " 'BTO:0000567|BTO:0000195',\n",
       " 'BTO:0000567|BTO:0000599|BTO:0000007',\n",
       " 'BTO:0000567|BTO:0000661|DOID:3702|DOID:715',\n",
       " 'BTO:0000567|BTO:0000661|DOID:715|DOID:3702',\n",
       " 'BTO:0000567|BTO:0002181',\n",
       " 'BTO:0000567|BTO:0002750',\n",
       " 'BTO:0000567|BTO:0003323',\n",
       " 'BTO:0000567|BTO:0003323|BTO:0000093',\n",
       " 'BTO:0000567|CHEBI:64816',\n",
       " 'BTO:0000567|CL:0000066|DOID:3702',\n",
       " 'BTO:0000567|DOID:299',\n",
       " 'BTO:0000567|DOID:3702',\n",
       " 'BTO:0000567|DOID:3702|BTO:0000007',\n",
       " 'BTO:0000567|DOID:3702|BTO:0000661|DOID:715|BTO:0000007',\n",
       " 'BTO:0000567|DOID:3702|CL:0000066',\n",
       " 'BTO:0000567|DOID:3702|DOID:715|BTO:0000661',\n",
       " 'BTO:0000567|DOID:3702|GO:0005829|GO:0016020',\n",
       " 'BTO:0000567|DOID:715|BTO:0000661|BTO:0000007|DOID:3702',\n",
       " 'BTO:0000567|DOID:715|BTO:0000661|DOID:3702',\n",
       " 'BTO:0000567|DOID:715|DOID:3702|BTO:0000661',\n",
       " 'BTO:0000567|HP:0001507|PATO:0000169',\n",
       " 'BTO:0000567|HP:0001507|PATO:0000169|BTO:0000018',\n",
       " 'BTO:0000567|PATO:0000169|HP:0001507',\n",
       " 'BTO:0000567|PATO:0000169|HP:0001507|BTO:0000018',\n",
       " 'BTO:0000578',\n",
       " 'BTO:0000599',\n",
       " 'BTO:0000661',\n",
       " 'BTO:0000661|BTO:0000007|DOID:715',\n",
       " 'BTO:0000661|BTO:0000567|DOID:3702|DOID:715',\n",
       " 'BTO:0000661|BTO:0000567|DOID:715|BTO:0000007|DOID:3702',\n",
       " 'BTO:0000661|BTO:0000664|HP:0001507',\n",
       " 'BTO:0000661|DOID:3702|BTO:0000567|DOID:715',\n",
       " 'BTO:0000661|DOID:3702|DOID:715|BTO:0000567',\n",
       " 'BTO:0000661|DOID:715',\n",
       " 'BTO:0000661|DOID:715|BTO:0000007',\n",
       " 'BTO:0000661|DOID:715|BTO:0000567|DOID:3702',\n",
       " 'BTO:0000661|DOID:715|BTO:0000567|DOID:3702|BTO:0000007',\n",
       " 'BTO:0000661|DOID:715|DOID:3702|BTO:0000567',\n",
       " 'BTO:0000661|HP:0001507',\n",
       " 'BTO:0000661|HP:0001507|BTO:0000664',\n",
       " 'BTO:0000664',\n",
       " 'BTO:0000664|BTO:0000661|HP:0001507',\n",
       " 'BTO:0000664|DOID:8552',\n",
       " 'BTO:0000664|HP:0001507',\n",
       " 'BTO:0000664|HP:0001507|BTO:0000661',\n",
       " 'BTO:0000671',\n",
       " 'BTO:0000671|UBERON:0002113',\n",
       " 'BTO:0000736',\n",
       " 'BTO:0000751',\n",
       " 'BTO:0000759',\n",
       " 'BTO:0000759|UBERON:0002107',\n",
       " 'BTO:0000763',\n",
       " 'BTO:0000773',\n",
       " 'BTO:0000793',\n",
       " 'BTO:0000793|BTO:0000007',\n",
       " 'BTO:0000793|BTO:0005238',\n",
       " 'BTO:0000801|UBERON:0000178',\n",
       " 'BTO:0000812|CHEBI:27881|GO:0005634',\n",
       " 'BTO:0000812|DOID:3713',\n",
       " 'BTO:0000812|GO:0005634|CHEBI:27881',\n",
       " 'BTO:0000815',\n",
       " 'BTO:0000815|BTO:0001466',\n",
       " 'BTO:0000873',\n",
       " 'BTO:0000876',\n",
       " 'BTO:0000907',\n",
       " 'BTO:0000932',\n",
       " 'BTO:0000946',\n",
       " 'BTO:0000971',\n",
       " 'BTO:0000971|BTO:0001583|BTO:0001229|BTO:0000567|BTO:0002181',\n",
       " 'BTO:0000971|BTO:0003066',\n",
       " 'BTO:0000975',\n",
       " 'BTO:0001007',\n",
       " 'BTO:0001025',\n",
       " 'BTO:0001033|DOID:10283|BTO:0001321|CHEBI:15738|CHEBI:65329',\n",
       " 'BTO:0001061',\n",
       " 'BTO:0001086',\n",
       " 'BTO:0001107',\n",
       " 'BTO:0001109',\n",
       " 'BTO:0001154',\n",
       " 'BTO:0001176',\n",
       " 'BTO:0001177',\n",
       " 'BTO:0001239',\n",
       " 'BTO:0001248',\n",
       " 'BTO:0001248|BTO:0000093',\n",
       " 'BTO:0001248|BTO:0000298',\n",
       " 'BTO:0001282',\n",
       " 'BTO:0001321',\n",
       " 'BTO:0001321|CHEBI:379896|DOID:10286',\n",
       " 'BTO:0001321|DOID:10286|CHEBI:379896',\n",
       " 'BTO:0001332|BTO:0001061',\n",
       " 'BTO:0001363',\n",
       " 'BTO:0001370',\n",
       " 'BTO:0001388',\n",
       " 'BTO:0001416',\n",
       " 'BTO:0001416|UBERON:0007777',\n",
       " 'BTO:0001466|BTO:0000815',\n",
       " 'BTO:0001487',\n",
       " 'BTO:0001509',\n",
       " 'BTO:0001518|DOID:0060058',\n",
       " 'BTO:0001553|DOID:234|BTO:0001913',\n",
       " 'BTO:0001557|DOID:3068',\n",
       " 'BTO:0001581',\n",
       " 'BTO:0001596',\n",
       " 'BTO:0001619',\n",
       " 'BTO:0001620|DOID:769',\n",
       " 'BTO:0001911|DOID:3910',\n",
       " 'BTO:0001913|BTO:0001553|DOID:234',\n",
       " 'BTO:0001913|DOID:234|BTO:0001553',\n",
       " 'BTO:0001914',\n",
       " 'BTO:0001914|BTO:0000182',\n",
       " 'BTO:0001914|BTO:0002750',\n",
       " 'BTO:0001914|BTO:0002750|BTO:0000182',\n",
       " 'BTO:0001938',\n",
       " 'BTO:0001938|BTO:0002552',\n",
       " 'BTO:0001949',\n",
       " 'BTO:0001949|BTO:0002036',\n",
       " 'BTO:0001949|CHEBI:37537|UBERON:0007777',\n",
       " 'BTO:0001949|GO:0005886|GO:0045121',\n",
       " 'BTO:0001949|UBERON:0002066',\n",
       " 'BTO:0001949|UBERON:0007777',\n",
       " 'BTO:0001950|BTO:0005029',\n",
       " 'BTO:0001968|BTO:0003109',\n",
       " 'BTO:0001976',\n",
       " 'BTO:0002024',\n",
       " 'BTO:0002035',\n",
       " 'BTO:0002035|DOID:3069',\n",
       " 'BTO:0002036',\n",
       " 'BTO:0002036|BTO:0001949',\n",
       " 'BTO:0002043',\n",
       " 'BTO:0002049',\n",
       " 'BTO:0002137',\n",
       " 'BTO:0002181',\n",
       " 'BTO:0002181|BTO:0000567',\n",
       " 'BTO:0002181|BTO:0000567|BTO:0000161|BTO:0001938|BTO:0001583',\n",
       " 'BTO:0002181|BTO:0001938',\n",
       " 'BTO:0002181|HP:0001507|PATO:0000169',\n",
       " 'BTO:0002181|PATO:0000169|HP:0001507',\n",
       " 'BTO:0002207|UBERON:0002048|DOID:3908',\n",
       " 'BTO:0002245|CHEBI:37537',\n",
       " 'BTO:0002245|UBERON:0001471|CHEBI:37537|GO:0005634',\n",
       " 'BTO:0002245|UBERON:0001471|GO:0005634|CHEBI:37537',\n",
       " 'BTO:0002333',\n",
       " 'BTO:0002335',\n",
       " 'BTO:0002384',\n",
       " 'BTO:0002398',\n",
       " 'BTO:0002416',\n",
       " 'BTO:0002418',\n",
       " 'BTO:0002419',\n",
       " 'BTO:0002552',\n",
       " 'BTO:0002566|BTO:0002590',\n",
       " 'BTO:0002581',\n",
       " 'BTO:0002582',\n",
       " 'BTO:0002590',\n",
       " 'BTO:0002590|BTO:0002566',\n",
       " 'BTO:0002727',\n",
       " 'BTO:0002750',\n",
       " 'BTO:0002750|BTO:0000182',\n",
       " 'BTO:0002750|BTO:0000567',\n",
       " 'BTO:0002750|BTO:0001914',\n",
       " 'BTO:0002750|BTO:0001914|BTO:0000182',\n",
       " 'BTO:0002806',\n",
       " 'BTO:0002828',\n",
       " 'BTO:0002894',\n",
       " 'BTO:0002919',\n",
       " 'BTO:0002923',\n",
       " 'BTO:0002923|GO:0045121',\n",
       " 'BTO:0002933',\n",
       " 'BTO:0002940',\n",
       " 'BTO:0002998|DOID:10283',\n",
       " 'BTO:0002998|DOID:10283|GO:0005886',\n",
       " 'BTO:0003056',\n",
       " 'BTO:0003066|BTO:0000971',\n",
       " 'BTO:0003185',\n",
       " 'BTO:0003245|BTO:0000135|UBERON:0004851',\n",
       " 'BTO:0003246|BTO:0001949|GO:0045121',\n",
       " 'BTO:0003323',\n",
       " 'BTO:0003339',\n",
       " 'BTO:0003575',\n",
       " 'BTO:0003761',\n",
       " 'BTO:0003769|BTO:0002043',\n",
       " 'BTO:0003772',\n",
       " 'BTO:0003932',\n",
       " 'BTO:0004041',\n",
       " 'BTO:0004109',\n",
       " 'BTO:0004216',\n",
       " 'BTO:0004219',\n",
       " 'BTO:0004328',\n",
       " 'BTO:0004330',\n",
       " 'BTO:0004403',\n",
       " 'BTO:0004432|BTO:0001879',\n",
       " 'BTO:0004573',\n",
       " 'BTO:0004602',\n",
       " 'BTO:0005029',\n",
       " 'BTO:0005029|BTO:0001950',\n",
       " 'BTO:0005164',\n",
       " 'BTO:0005238|BTO:0000793',\n",
       " 'CHEBI:15372',\n",
       " 'CHEBI:16761',\n",
       " 'CHEBI:16856',\n",
       " 'CHEBI:16914',\n",
       " 'CHEBI:16914|PATO:0001305',\n",
       " 'CHEBI:16973',\n",
       " 'CHEBI:17347',\n",
       " 'CHEBI:22986',\n",
       " 'CHEBI:27485',\n",
       " 'CHEBI:27881|GO:0005634|BTO:0000812',\n",
       " 'CHEBI:28077',\n",
       " 'CHEBI:28593',\n",
       " 'CHEBI:28794',\n",
       " 'CHEBI:29108',\n",
       " 'CHEBI:29320',\n",
       " 'CHEBI:34159',\n",
       " 'CHEBI:3655',\n",
       " 'CHEBI:37532',\n",
       " 'CHEBI:37537|BTO:0002245',\n",
       " 'CHEBI:37537|BTO:0002245|UBERON:0001471|GO:0005634',\n",
       " 'CHEBI:37537|UBERON:0001471|GO:0005634|BTO:0002245',\n",
       " 'CHEBI:379896|BTO:0001321|DOID:10286',\n",
       " 'CHEBI:379896|DOID:10286|BTO:0001321',\n",
       " 'CHEBI:41480',\n",
       " 'CHEBI:42446',\n",
       " 'CHEBI:43755',\n",
       " 'CHEBI:44224',\n",
       " 'CHEBI:49662|CHEBI:34159',\n",
       " 'CHEBI:50122',\n",
       " 'CHEBI:506227',\n",
       " 'CHEBI:506227|CHEBI:3697',\n",
       " 'CHEBI:529996|BTO:0001949',\n",
       " 'CHEBI:53490|BTO:0000130|GO:0002679',\n",
       " 'CHEBI:5931',\n",
       " 'CHEBI:5931|BTO:0000007',\n",
       " 'CHEBI:60311',\n",
       " 'CHEBI:63213',\n",
       " 'CHEBI:64211',\n",
       " 'CHEBI:65329',\n",
       " 'CL:0000066|BTO:0000972|DOID:684',\n",
       " 'CL:0000066|DOID:3702|BTO:0000567',\n",
       " 'CL:0000233|BTO:0000132',\n",
       " 'CL:0000576',\n",
       " 'CL:0002544|UBERON:0004851|BTO:0000135|BTO:0003245',\n",
       " 'CL:0002582|BTO:0001107',\n",
       " 'DOID:0050671|BTO:0000093',\n",
       " 'DOID:0060058|BTO:0001518',\n",
       " 'DOID:0060060|BTO:0001412|CHEBI:30621',\n",
       " 'DOID:10283|BTO:0001321|BTO:0001033',\n",
       " 'DOID:10283|BTO:0002998',\n",
       " 'DOID:10286|BTO:0001321|CHEBI:379896',\n",
       " 'DOID:10286|CHEBI:379896|BTO:0001321',\n",
       " 'DOID:104',\n",
       " 'DOID:12347|BTO:0004419|HP:0003784|GO:0030199',\n",
       " 'DOID:234|BTO:0001913|BTO:0001553',\n",
       " 'DOID:299|BTO:0000567',\n",
       " 'DOID:3068|BTO:0001557',\n",
       " 'DOID:3068|BTO:0002036',\n",
       " 'DOID:3069|BTO:0002035',\n",
       " 'DOID:3151|BTO:0000017',\n",
       " 'DOID:3246|BTO:0002605',\n",
       " 'DOID:3458|BTO:0000093',\n",
       " 'DOID:3458|BTO:0000093|GO:0005634',\n",
       " 'DOID:3702|BTO:0000007|BTO:0000567',\n",
       " 'DOID:3702|BTO:0000007|BTO:0000661|DOID:715|BTO:0000567',\n",
       " 'DOID:3702|BTO:0000007|DOID:715|BTO:0000567|BTO:0000661',\n",
       " 'DOID:3702|BTO:0000567',\n",
       " 'DOID:3702|BTO:0000567|BTO:0000007',\n",
       " 'DOID:3702|BTO:0000567|BTO:0000661|DOID:715',\n",
       " 'DOID:3702|BTO:0000567|DOID:715|BTO:0000661|BTO:0000007',\n",
       " 'DOID:3702|BTO:0000567|GO:0005634',\n",
       " 'DOID:3702|BTO:0000568',\n",
       " 'DOID:3702|BTO:0000661|BTO:0000567|DOID:715',\n",
       " 'DOID:3702|BTO:0000661|DOID:715|BTO:0000567',\n",
       " 'DOID:3702|CL:0000066|BTO:0000567',\n",
       " 'DOID:3702|DOID:715|BTO:0000567|BTO:0000661',\n",
       " 'DOID:3702|GO:0005634|BTO:0000567',\n",
       " 'DOID:3748',\n",
       " 'DOID:3908|UBERON:0002048|BTO:0002207',\n",
       " 'DOID:3910|BTO:0001911',\n",
       " 'DOID:715|BTO:0000007|BTO:0000661',\n",
       " 'DOID:715|BTO:0000567|BTO:0000661|DOID:3702|BTO:0000007',\n",
       " 'DOID:715|BTO:0000661',\n",
       " 'DOID:715|BTO:0000661|BTO:0000007',\n",
       " 'DOID:715|BTO:0000661|BTO:0000567|DOID:3702',\n",
       " 'DOID:715|BTO:0000661|DOID:3702|BTO:0000567',\n",
       " 'DOID:715|BTO:0000661|DOID:3702|BTO:0000567|BTO:0000007',\n",
       " 'DOID:715|DOID:3702|BTO:0000567|BTO:0000661',\n",
       " 'DOID:8552|BTO:0000664',\n",
       " 'DOID:9256',\n",
       " 'GO:0000139',\n",
       " 'GO:0002679|CHEBI:53490|BTO:0000130',\n",
       " 'GO:0005634|CHEBI:27881|BTO:0000812',\n",
       " 'GO:0005634|DOID:3458|BTO:0000093',\n",
       " 'GO:0005634|UBERON:0001471|BTO:0002245|CHEBI:37537',\n",
       " 'GO:0005811',\n",
       " 'GO:0005829|GO:0016020|BTO:0000567|DOID:3702',\n",
       " 'GO:0005886',\n",
       " 'GO:0005886|BTO:0003575',\n",
       " 'GO:0005886|GO:0048471|BTO:0001949|UBERON:0002066',\n",
       " 'GO:0005901',\n",
       " 'GO:0006750',\n",
       " 'GO:0006914',\n",
       " 'GO:0008283',\n",
       " 'GO:0009615',\n",
       " 'GO:0009636',\n",
       " 'GO:0010591|GO:0016477',\n",
       " 'GO:0010872|GO:0034361',\n",
       " 'GO:0016485',\n",
       " 'GO:0030479|DOID:0050671|BTO:0000356',\n",
       " 'GO:0034341',\n",
       " 'GO:0034361|GO:0010872',\n",
       " 'GO:0035690',\n",
       " 'GO:0051000',\n",
       " 'GO:0090244',\n",
       " 'GO:0090244|DOID:0080036|DOID:11476',\n",
       " 'GO:2001038',\n",
       " 'HP:0001507',\n",
       " 'HP:0001507|BTO:0000018|PATO:0000169|BTO:0000567',\n",
       " 'HP:0001507|BTO:0000567|BTO:0002181|PATO:0000169',\n",
       " 'HP:0001507|BTO:0000567|PATO:0000169',\n",
       " 'HP:0001507|BTO:0000661',\n",
       " 'HP:0001507|BTO:0000661|BTO:0000664',\n",
       " 'HP:0001507|BTO:0000664',\n",
       " 'HP:0001507|BTO:0000664|BTO:0000661',\n",
       " 'HP:0001507|BTO:0002181|PATO:0000169',\n",
       " 'HP:0001507|PATO:0000169',\n",
       " 'HP:0001507|PATO:0000169|BTO:0000018',\n",
       " 'HP:0001507|PATO:0000169|BTO:0000018|BTO:0000567',\n",
       " 'HP:0001507|PATO:0000169|BTO:0000567',\n",
       " 'HP:0001507|PATO:0000169|BTO:0000567|BTO:0000018',\n",
       " 'HP:0001507|PATO:0000169|BTO:0002181',\n",
       " 'HP:0001712|GO:0050663|DOID:6000',\n",
       " 'HP:0003214',\n",
       " 'HP:0003784|DOID:12347|BTO:0004419|GO:0005581|GO:0005615|GO:0030199',\n",
       " 'MP:0000358',\n",
       " 'MP:0008469',\n",
       " 'MP:0008469|MP:0000358',\n",
       " 'PATO:0000169',\n",
       " 'PATO:0000169|BTO:0000018|HP:0001507',\n",
       " 'PATO:0000169|BTO:0000567|HP:0001507',\n",
       " 'PATO:0000169|BTO:0000567|HP:0001507|BTO:0000018',\n",
       " 'PATO:0000169|BTO:0002181|HP:0001507',\n",
       " 'PATO:0000169|GO:0042493',\n",
       " 'PATO:0000169|HP:0001507',\n",
       " 'PATO:0000169|HP:0001507|BTO:0000018',\n",
       " 'PATO:0000169|HP:0001507|BTO:0000018|BTO:0002181',\n",
       " 'PATO:0000169|HP:0001507|BTO:0000567',\n",
       " 'PATO:0000169|HP:0001507|BTO:0002181',\n",
       " 'PATO:0000169|HP:0001507|BTO:0002181|BTO:0000018',\n",
       " 'PATO:0000169|HP:0001507|BTO:0002181|BTO:0000567',\n",
       " 'PATO:0001374',\n",
       " 'UBERON:0000007',\n",
       " 'UBERON:0000178|BTO:0000089',\n",
       " 'UBERON:0000319|UBERON:0001987|BTO:0005003',\n",
       " 'UBERON:0000955|BTO:0000142',\n",
       " 'UBERON:0000955|CL:0000127|BTO:0000142',\n",
       " 'UBERON:0001133|BTO:0000199',\n",
       " 'UBERON:0001134|BTO:0001103|GO:0042383',\n",
       " 'UBERON:0001471|GO:0005634|BTO:0002245|CHEBI:37537',\n",
       " 'UBERON:0001621|BTO:0002985',\n",
       " 'UBERON:0001969|BTO:0000131',\n",
       " 'UBERON:0001969|GO:0005615|BTO:0000131',\n",
       " 'UBERON:0002048|BTO:0000763',\n",
       " 'UBERON:0007777|BTO:0001416',\n",
       " 'UBERON:0007777|BTO:0001949|CHEBI:37537',\n",
       " 'UBERON:0007808|BTO:0004041'}"
      ]
     },
     "execution_count": 30,
     "metadata": {},
     "output_type": "execute_result"
    }
   ],
   "source": [
    "set(df_homo['Ontology Term IDs'])"
   ]
  },
  {
   "cell_type": "code",
   "execution_count": 27,
   "id": "6e3a3a2d",
   "metadata": {},
   "outputs": [],
   "source": [
    "ontology_terms=set()\n",
    "s=set(df_homo['Ontology Term IDs'])\n",
    "for i in s:\n",
    "    if i!= '-':\n",
    "        l=i.split('|')\n",
    "        for j in l:\n",
    "            if j not in ontology_terms:\n",
    "                ontology_terms.add(j)"
   ]
  },
  {
   "cell_type": "code",
   "execution_count": null,
   "id": "1ce721af",
   "metadata": {},
   "outputs": [],
   "source": []
  },
  {
   "cell_type": "code",
   "execution_count": 29,
   "id": "babe2ee0",
   "metadata": {},
   "outputs": [
    {
     "data": {
      "text/plain": [
       "290"
      ]
     },
     "execution_count": 29,
     "metadata": {},
     "output_type": "execute_result"
    }
   ],
   "source": [
    "len(ontology_terms)"
   ]
  },
  {
   "cell_type": "code",
   "execution_count": null,
   "id": "2f5ea755",
   "metadata": {},
   "outputs": [],
   "source": []
  },
  {
   "cell_type": "code",
   "execution_count": 7,
   "id": "52443146",
   "metadata": {},
   "outputs": [],
   "source": [
    "df_homo_prot=df_homo[['Official Symbol Interactor A','Official Symbol Interactor B']]"
   ]
  },
  {
   "cell_type": "code",
   "execution_count": 8,
   "id": "5578eb5e",
   "metadata": {},
   "outputs": [
    {
     "data": {
      "text/html": [
       "<div>\n",
       "<style scoped>\n",
       "    .dataframe tbody tr th:only-of-type {\n",
       "        vertical-align: middle;\n",
       "    }\n",
       "\n",
       "    .dataframe tbody tr th {\n",
       "        vertical-align: top;\n",
       "    }\n",
       "\n",
       "    .dataframe thead th {\n",
       "        text-align: right;\n",
       "    }\n",
       "</style>\n",
       "<table border=\"1\" class=\"dataframe\">\n",
       "  <thead>\n",
       "    <tr style=\"text-align: right;\">\n",
       "      <th></th>\n",
       "      <th>Official Symbol Interactor A</th>\n",
       "      <th>Official Symbol Interactor B</th>\n",
       "    </tr>\n",
       "  </thead>\n",
       "  <tbody>\n",
       "    <tr>\n",
       "      <th>0</th>\n",
       "      <td>MAP2K4</td>\n",
       "      <td>FLNC</td>\n",
       "    </tr>\n",
       "    <tr>\n",
       "      <th>1</th>\n",
       "      <td>MYPN</td>\n",
       "      <td>ACTN2</td>\n",
       "    </tr>\n",
       "    <tr>\n",
       "      <th>2</th>\n",
       "      <td>ACVR1</td>\n",
       "      <td>FNTA</td>\n",
       "    </tr>\n",
       "    <tr>\n",
       "      <th>3</th>\n",
       "      <td>GATA2</td>\n",
       "      <td>PML</td>\n",
       "    </tr>\n",
       "    <tr>\n",
       "      <th>4</th>\n",
       "      <td>RPA2</td>\n",
       "      <td>STAT3</td>\n",
       "    </tr>\n",
       "  </tbody>\n",
       "</table>\n",
       "</div>"
      ],
      "text/plain": [
       "  Official Symbol Interactor A Official Symbol Interactor B\n",
       "0                       MAP2K4                         FLNC\n",
       "1                         MYPN                        ACTN2\n",
       "2                        ACVR1                         FNTA\n",
       "3                        GATA2                          PML\n",
       "4                         RPA2                        STAT3"
      ]
     },
     "execution_count": 8,
     "metadata": {},
     "output_type": "execute_result"
    }
   ],
   "source": [
    "df_homo_prot.head()"
   ]
  },
  {
   "cell_type": "code",
   "execution_count": 9,
   "id": "96cda327",
   "metadata": {},
   "outputs": [],
   "source": [
    "num_nodes=pd.concat([df_homo_prot.iloc[:,0],df_homo_prot.iloc[:,1]]).nunique()\n",
    "num_edges_original=df_homo_prot.shape[0]"
   ]
  },
  {
   "cell_type": "code",
   "execution_count": 10,
   "id": "159013a6",
   "metadata": {},
   "outputs": [
    {
     "name": "stdout",
     "output_type": "stream",
     "text": [
      "Number of proteins: 19779\n",
      "Number of edges (edges + self-loop + multiple edges): 936634\n"
     ]
    }
   ],
   "source": [
    "print('Number of proteins:',num_nodes)\n",
    "print('Number of edges (edges + self-loop + multiple edges):',num_edges_original)"
   ]
  },
  {
   "cell_type": "code",
   "execution_count": 11,
   "id": "f654e948",
   "metadata": {},
   "outputs": [],
   "source": [
    "#remove self loop\n",
    "df_homo_prot_2=df_homo_prot.loc[df_homo_prot['Official Symbol Interactor A']!=df_homo_prot['Official Symbol Interactor B']]"
   ]
  },
  {
   "cell_type": "code",
   "execution_count": 12,
   "id": "e89cdd8e",
   "metadata": {},
   "outputs": [
    {
     "name": "stdout",
     "output_type": "stream",
     "text": [
      "Number of edges without self loops (edges + multiple edges): 929441\n"
     ]
    }
   ],
   "source": [
    "num_edges_no_sl=df_homo_prot_2.shape[0]\n",
    "print('Number of edges without self loops (edges + multiple edges):',num_edges_no_sl)"
   ]
  },
  {
   "cell_type": "code",
   "execution_count": 13,
   "id": "6f2437e2",
   "metadata": {},
   "outputs": [
    {
     "name": "stdout",
     "output_type": "stream",
     "text": [
      "num edges 702531\n",
      "num edges after removing self loops  699259\n"
     ]
    }
   ],
   "source": [
    "G=nx.from_pandas_edgelist(df_homo_prot,'Official Symbol Interactor A','Official Symbol Interactor B' )\n",
    "print('num edges',G.number_of_edges())\n",
    "G.remove_edges_from(nx.selfloop_edges(G))\n",
    "print('num edges after removing self loops ',G.number_of_edges())"
   ]
  },
  {
   "cell_type": "code",
   "execution_count": 14,
   "id": "8eb2b2b4",
   "metadata": {},
   "outputs": [
    {
     "name": "stdout",
     "output_type": "stream",
     "text": [
      "num edges 699259\n"
     ]
    }
   ],
   "source": [
    "#the dataset is already filtered (without self loops)\n",
    "G_2=nx.from_pandas_edgelist(df_homo_prot_2,'Official Symbol Interactor A','Official Symbol Interactor B' )\n",
    "print('num edges',G_2.number_of_edges())"
   ]
  },
  {
   "cell_type": "code",
   "execution_count": 15,
   "id": "81150edd",
   "metadata": {},
   "outputs": [
    {
     "name": "stdout",
     "output_type": "stream",
     "text": [
      "The largest component has: 19776\n"
     ]
    }
   ],
   "source": [
    "#select the largest component\n",
    "connected_component_subgraphs =(G.subgraph(c) for c in nx.connected_components(G))\n",
    "largest_subgraph = max(connected_component_subgraphs, key=len)\n",
    "print('The largest component has:',largest_subgraph.number_of_nodes())"
   ]
  },
  {
   "cell_type": "code",
   "execution_count": 18,
   "id": "1982c985",
   "metadata": {},
   "outputs": [],
   "source": [
    "#save the dataframe\n",
    "df_homo_prot_2.to_csv('PPI.csv',index=False)"
   ]
  },
  {
   "cell_type": "code",
   "execution_count": 2,
   "id": "70b7aa28",
   "metadata": {},
   "outputs": [],
   "source": [
    "# import dataset\n",
    "df=pd.read_csv('PPI.csv')"
   ]
  },
  {
   "cell_type": "code",
   "execution_count": 3,
   "id": "862ecc14",
   "metadata": {
    "scrolled": true
   },
   "outputs": [
    {
     "data": {
      "text/html": [
       "<div>\n",
       "<style scoped>\n",
       "    .dataframe tbody tr th:only-of-type {\n",
       "        vertical-align: middle;\n",
       "    }\n",
       "\n",
       "    .dataframe tbody tr th {\n",
       "        vertical-align: top;\n",
       "    }\n",
       "\n",
       "    .dataframe thead th {\n",
       "        text-align: right;\n",
       "    }\n",
       "</style>\n",
       "<table border=\"1\" class=\"dataframe\">\n",
       "  <thead>\n",
       "    <tr style=\"text-align: right;\">\n",
       "      <th></th>\n",
       "      <th>Official Symbol Interactor A</th>\n",
       "      <th>Official Symbol Interactor B</th>\n",
       "    </tr>\n",
       "  </thead>\n",
       "  <tbody>\n",
       "    <tr>\n",
       "      <th>0</th>\n",
       "      <td>MAP2K4</td>\n",
       "      <td>FLNC</td>\n",
       "    </tr>\n",
       "    <tr>\n",
       "      <th>1</th>\n",
       "      <td>MYPN</td>\n",
       "      <td>ACTN2</td>\n",
       "    </tr>\n",
       "    <tr>\n",
       "      <th>2</th>\n",
       "      <td>ACVR1</td>\n",
       "      <td>FNTA</td>\n",
       "    </tr>\n",
       "    <tr>\n",
       "      <th>3</th>\n",
       "      <td>GATA2</td>\n",
       "      <td>PML</td>\n",
       "    </tr>\n",
       "    <tr>\n",
       "      <th>4</th>\n",
       "      <td>RPA2</td>\n",
       "      <td>STAT3</td>\n",
       "    </tr>\n",
       "  </tbody>\n",
       "</table>\n",
       "</div>"
      ],
      "text/plain": [
       "  Official Symbol Interactor A Official Symbol Interactor B\n",
       "0                       MAP2K4                         FLNC\n",
       "1                         MYPN                        ACTN2\n",
       "2                        ACVR1                         FNTA\n",
       "3                        GATA2                          PML\n",
       "4                         RPA2                        STAT3"
      ]
     },
     "execution_count": 3,
     "metadata": {},
     "output_type": "execute_result"
    }
   ],
   "source": [
    "df.head()"
   ]
  },
  {
   "cell_type": "code",
   "execution_count": 5,
   "id": "13c25587",
   "metadata": {},
   "outputs": [],
   "source": [
    "#create the graph\n",
    "G=nx.from_pandas_edgelist(df,'Official Symbol Interactor A','Official Symbol Interactor B' )\n",
    "#transform the graph in pytorch geometric dataset\n",
    "#pyg_graph = from_networkx(G)\n",
    "#print(pyg_graph)"
   ]
  },
  {
   "cell_type": "code",
   "execution_count": 6,
   "id": "b8738872",
   "metadata": {},
   "outputs": [
    {
     "data": {
      "application/vnd.jupyter.widget-view+json": {
       "model_id": "9bcc0366993643b38b96117fc02ed2db",
       "version_major": 2,
       "version_minor": 0
      },
      "text/plain": [
       "Computing transition probabilities:   0%|          | 0/19776 [00:00<?, ?it/s]"
      ]
     },
     "metadata": {},
     "output_type": "display_data"
    },
    {
     "name": "stderr",
     "output_type": "stream",
     "text": [
      "Generating walks (CPU: 1): 100%|█████████████████████████████████████████████████████| 100/100 [10:28<00:00,  6.28s/it]\n"
     ]
    }
   ],
   "source": [
    "#compute embeggin of the nodes\n",
    "#node2vec = Node2Vec(G, dimensions=20, walk_length=16, num_walks=100,workers=1)"
   ]
  },
  {
   "cell_type": "code",
   "execution_count": 8,
   "id": "7a9763db",
   "metadata": {},
   "outputs": [],
   "source": [
    "#model = node2vec.fit(window=10, min_count=1, batch_words=4) \n",
    "#save the model\n",
    "#model.save('EMBEDDING_MODEL_FILENAME')\n",
    "#save the embeddings\n",
    "#model.wv.save_word2vec_format('EMBEDDING_FILENAME')"
   ]
  },
  {
   "cell_type": "code",
   "execution_count": 3,
   "id": "0e6c6cc2",
   "metadata": {},
   "outputs": [],
   "source": [
    "#load the model\n",
    "model=Word2Vec.load('EMBEDDING_MODEL_FILENAME')"
   ]
  },
  {
   "cell_type": "code",
   "execution_count": null,
   "id": "86c9da8c",
   "metadata": {},
   "outputs": [],
   "source": [
    "#This object essentially contains the mapping between words and embeddings. \n",
    "#model.wv"
   ]
  },
  {
   "cell_type": "code",
   "execution_count": 57,
   "id": "51e0ac65",
   "metadata": {},
   "outputs": [],
   "source": [
    "x=torch.tensor(model.wv.get_normed_vectors())\n",
    "x.shape"
   ]
  },
  {
   "cell_type": "code",
   "execution_count": 59,
   "id": "98f1144e",
   "metadata": {},
   "outputs": [
    {
     "data": {
      "text/plain": [
       "array([ 0.7429858 ,  0.11721963,  0.03082864, -0.3415949 ,  0.5241447 ,\n",
       "       -0.32755858, -0.20141901,  0.74712366,  0.34744626, -0.3101339 ,\n",
       "       -0.5255988 , -0.61098903,  0.59213305, -0.17646754,  0.46805826,\n",
       "       -0.8434537 ,  0.595276  ,  0.11821996,  0.13182667, -0.65747094],\n",
       "      dtype=float32)"
      ]
     },
     "execution_count": 59,
     "metadata": {},
     "output_type": "execute_result"
    }
   ],
   "source": [
    "model.wv.get_vector('PWAR5')"
   ]
  },
  {
   "cell_type": "code",
   "execution_count": 64,
   "id": "2964a9b5",
   "metadata": {},
   "outputs": [
    {
     "data": {
      "text/plain": [
       "19259"
      ]
     },
     "execution_count": 64,
     "metadata": {},
     "output_type": "execute_result"
    }
   ],
   "source": [
    "model.wv.get_index('PWAR5')"
   ]
  },
  {
   "cell_type": "code",
   "execution_count": 66,
   "id": "717e60f7",
   "metadata": {},
   "outputs": [
    {
     "data": {
      "text/plain": [
       "array([ 0.7429858 ,  0.11721963,  0.03082864, -0.3415949 ,  0.5241447 ,\n",
       "       -0.32755858, -0.20141901,  0.74712366,  0.34744626, -0.3101339 ,\n",
       "       -0.5255988 , -0.61098903,  0.59213305, -0.17646754,  0.46805826,\n",
       "       -0.8434537 ,  0.595276  ,  0.11821996,  0.13182667, -0.65747094],\n",
       "      dtype=float32)"
      ]
     },
     "execution_count": 66,
     "metadata": {},
     "output_type": "execute_result"
    }
   ],
   "source": [
    "model.wv.get_vector(19259)"
   ]
  },
  {
   "cell_type": "code",
   "execution_count": 67,
   "id": "c699e7c0",
   "metadata": {},
   "outputs": [],
   "source": [
    "G.nodes['PWAR5']['x']=model.wv.get_vector('PWAR5')"
   ]
  },
  {
   "cell_type": "code",
   "execution_count": 69,
   "id": "3c904e4c",
   "metadata": {},
   "outputs": [
    {
     "data": {
      "text/plain": [
       "array([ 0.7429858 ,  0.11721963,  0.03082864, -0.3415949 ,  0.5241447 ,\n",
       "       -0.32755858, -0.20141901,  0.74712366,  0.34744626, -0.3101339 ,\n",
       "       -0.5255988 , -0.61098903,  0.59213305, -0.17646754,  0.46805826,\n",
       "       -0.8434537 ,  0.595276  ,  0.11821996,  0.13182667, -0.65747094],\n",
       "      dtype=float32)"
      ]
     },
     "execution_count": 69,
     "metadata": {},
     "output_type": "execute_result"
    }
   ],
   "source": [
    "G.nodes['PWAR5']['x']"
   ]
  },
  {
   "cell_type": "code",
   "execution_count": 6,
   "id": "3016b2a4",
   "metadata": {},
   "outputs": [],
   "source": [
    "for n in G.nodes():\n",
    "    G.nodes[n]['x']=np.array(model.wv.get_vector(n))"
   ]
  },
  {
   "cell_type": "code",
   "execution_count": 7,
   "id": "57a5dce6",
   "metadata": {},
   "outputs": [
    {
     "data": {
      "text/plain": [
       "array([-0.5213403 , -0.13549931, -0.32977045,  0.69912714,  0.4599589 ,\n",
       "       -0.28745085, -0.08199365,  0.29456007, -0.21221317, -1.0883316 ,\n",
       "        0.16984665, -0.5307443 ,  0.5459234 , -0.25166273,  0.4377023 ,\n",
       "        0.27254134, -0.2743203 , -0.65850896, -0.07639949, -0.22601451],\n",
       "      dtype=float32)"
      ]
     },
     "execution_count": 7,
     "metadata": {},
     "output_type": "execute_result"
    }
   ],
   "source": [
    "G.nodes['MAP2K4']['x']"
   ]
  },
  {
   "cell_type": "code",
   "execution_count": 10,
   "id": "c3015f53",
   "metadata": {},
   "outputs": [
    {
     "name": "stderr",
     "output_type": "stream",
     "text": [
      "c:\\users\\calni\\appdata\\local\\programs\\python\\python39\\lib\\site-packages\\torch_geometric\\utils\\convert.py:178: UserWarning: Creating a tensor from a list of numpy.ndarrays is extremely slow. Please consider converting the list to a single numpy.ndarray with numpy.array() before converting to a tensor. (Triggered internally at  ..\\torch\\csrc\\utils\\tensor_new.cpp:201.)\n",
      "  data[key] = torch.tensor(value)\n"
     ]
    }
   ],
   "source": [
    "pyg_graph = from_networkx(G)"
   ]
  },
  {
   "cell_type": "code",
   "execution_count": 11,
   "id": "e59df557",
   "metadata": {},
   "outputs": [
    {
     "data": {
      "text/plain": [
       "Data(x=[19776, 20], edge_index=[2, 1398518])"
      ]
     },
     "execution_count": 11,
     "metadata": {},
     "output_type": "execute_result"
    }
   ],
   "source": [
    "pyg_graph"
   ]
  },
  {
   "cell_type": "code",
   "execution_count": 11,
   "id": "59d161eb",
   "metadata": {},
   "outputs": [
    {
     "data": {
      "text/plain": [
       "torch_geometric.data.data.Data"
      ]
     },
     "execution_count": 11,
     "metadata": {},
     "output_type": "execute_result"
    }
   ],
   "source": [
    "type(pyg_graph)"
   ]
  },
  {
   "cell_type": "code",
   "execution_count": 80,
   "id": "224d2992",
   "metadata": {},
   "outputs": [
    {
     "data": {
      "text/plain": [
       "tensor([[-0.5213, -0.1355, -0.3298,  ..., -0.6585, -0.0764, -0.2260],\n",
       "        [ 0.1210,  0.5980, -0.1422,  ..., -0.3935, -0.0862, -0.6485],\n",
       "        [-0.5982,  0.7246,  0.0936,  ...,  0.0249, -0.1191, -0.3935],\n",
       "        ...,\n",
       "        [-0.1068,  0.7975, -0.0974,  ..., -0.6317,  0.2355, -0.5943],\n",
       "        [ 0.5525,  0.0896,  0.0274,  ..., -1.0622,  1.0990, -1.5603],\n",
       "        [ 0.0339,  0.7396, -0.1002,  ..., -0.9080, -0.4202,  0.1122]])"
      ]
     },
     "execution_count": 80,
     "metadata": {},
     "output_type": "execute_result"
    }
   ],
   "source": [
    "pyg_graph.x"
   ]
  },
  {
   "cell_type": "code",
   "execution_count": 81,
   "id": "968bdabf",
   "metadata": {},
   "outputs": [
    {
     "data": {
      "text/plain": [
       "20"
      ]
     },
     "execution_count": 81,
     "metadata": {},
     "output_type": "execute_result"
    }
   ],
   "source": [
    "pyg_graph.num_node_features"
   ]
  },
  {
   "cell_type": "code",
   "execution_count": 82,
   "id": "56ff891d",
   "metadata": {},
   "outputs": [
    {
     "data": {
      "text/plain": [
       "False"
      ]
     },
     "execution_count": 82,
     "metadata": {},
     "output_type": "execute_result"
    }
   ],
   "source": [
    "pyg_graph.has_isolated_nodes()"
   ]
  },
  {
   "cell_type": "code",
   "execution_count": 83,
   "id": "50b8710f",
   "metadata": {},
   "outputs": [
    {
     "data": {
      "text/plain": [
       "False"
      ]
     },
     "execution_count": 83,
     "metadata": {},
     "output_type": "execute_result"
    }
   ],
   "source": [
    "pyg_graph.has_self_loops()"
   ]
  },
  {
   "cell_type": "code",
   "execution_count": 14,
   "id": "c1e4a04c",
   "metadata": {},
   "outputs": [],
   "source": [
    "pyg_graph_3 = RandomLinkSplit(pyg_graph)"
   ]
  },
  {
   "cell_type": "code",
   "execution_count": 16,
   "id": "b2916277",
   "metadata": {},
   "outputs": [
    {
     "data": {
      "text/plain": [
       "RandomLinkSplit(num_val=Data(x=[19776, 20], val_pos_edge_index=[2, 34962], test_pos_edge_index=[2, 69925], train_pos_edge_index=[2, 1188744], train_neg_adj_mask=[19776, 19776], val_neg_edge_index=[2, 34962], test_neg_edge_index=[2, 69925]), num_test=0.2)"
      ]
     },
     "execution_count": 16,
     "metadata": {},
     "output_type": "execute_result"
    }
   ],
   "source": [
    "pyg_graph_3\n",
    "#pos edges = edges present in the graph\n",
    "#neg edges = edges not in the graph\n"
   ]
  },
  {
   "cell_type": "code",
   "execution_count": 17,
   "id": "d1e15b8c",
   "metadata": {},
   "outputs": [
    {
     "data": {
      "text/plain": [
       "Data(x=[19776, 20], val_pos_edge_index=[2, 34962], test_pos_edge_index=[2, 69925], train_pos_edge_index=[2, 1188744], train_neg_adj_mask=[19776, 19776], val_neg_edge_index=[2, 34962], test_neg_edge_index=[2, 69925])"
      ]
     },
     "execution_count": 17,
     "metadata": {},
     "output_type": "execute_result"
    }
   ],
   "source": [
    "pyg_graph_3.num_val\n"
   ]
  },
  {
   "cell_type": "markdown",
   "id": "e3bd8ec9",
   "metadata": {},
   "source": [
    "formulates the link prediction problem as a binary classification problem as follows:\n",
    "\n",
    "Treat the edges in the graph as positive examples.\n",
    "\n",
    "Sample a number of non-existent edges (i.e. node pairs with no edges between them) as negative examples.\n",
    "\n",
    "Divide the positive examples and negative examples into a training set and a test set.\n",
    "\n",
    "Evaluate the model with any binary classification metric such as Area Under Curve (AUC)."
   ]
  },
  {
   "cell_type": "code",
   "execution_count": 101,
   "id": "e8e9f17e",
   "metadata": {},
   "outputs": [],
   "source": [
    "class GCNEncoder(torch.nn.Module):\n",
    "    def __init__(self, in_channels, out_channels):\n",
    "        super(GCNEncoder, self).__init__()\n",
    "        #two convolutions\n",
    "        self.conv1 = GCNConv(in_channels, 2 * out_channels, cached=True) # cached only for transductive learning\n",
    "        self.conv2 = GCNConv(2 * out_channels, out_channels, cached=True) # cached only for transductive learning\n",
    "\n",
    "    def forward(self, x, edge_index):\n",
    "        print('x.shape_enc_pre_conv1',x.shape)\n",
    "        x = self.conv1(x, edge_index).relu()\n",
    "        print('x.shape_enc_ppost_conv1',x.shape)\n",
    "        x=self.conv2(x, edge_index)\n",
    "        print('x.shape_enc_ppost_conv2',x.shape)\n",
    "        return x#self.conv2(x, edge_index)"
   ]
  },
  {
   "cell_type": "code",
   "execution_count": 102,
   "id": "9504ae65",
   "metadata": {},
   "outputs": [],
   "source": [
    "class GCNDecoder(torch.nn.Module):\n",
    "    def __init__(self, latent_dim):\n",
    "        super(GCNDecoder, self).__init__()\n",
    "        #two convolutions\n",
    "        self.conv1 = GCNConv(latent_dim*2,latent_dim, cached=True) # cached only for transductive learning\n",
    "        self.conv2 = GCNConv(latent_dim, 1, cached=True) # cached only for transductive learning\n",
    "\n",
    "    def forward(self, z, edge_index, sigmoid=True):\n",
    "        z=torch.cat((z[edge_index[0]],z[edge_index[1]]),dim=1)\n",
    "        print('z shape dopo cat',z.shape)\n",
    "        z=self.conv1(z, edge_index).relu()\n",
    "        print('z shape dopo conv 1 dec',z.shape)\n",
    "        out=self.conv2(z, edge_index).sigmoid()\n",
    "        print('out shape dopo conv 2 dec',out.shape)\n",
    "        \n",
    "        return out"
   ]
  },
  {
   "cell_type": "code",
   "execution_count": 103,
   "id": "af7ae123",
   "metadata": {},
   "outputs": [],
   "source": [
    "def train():\n",
    "    model.train()\n",
    "    optimizer.zero_grad()\n",
    "    #il modello ha sia l encoder ( definito da noi) che il decoder(l'inner product in questo caso)\n",
    "    z = model.encode(x, train_pos_edge_index)\n",
    "    #print('z',z.shape)\n",
    "    #Given latent variables z, computes the binary cross entropy loss for positive edges\n",
    "    loss = model.recon_loss(z, train_pos_edge_index) #reconstruction loss è un metodo del modello\n",
    "    #gia presente nella classe GAE\n",
    "    #if args.variational:\n",
    "    #   loss = loss + (1 / data.num_nodes) * model.kl_loss()\n",
    "    loss.backward()\n",
    "    optimizer.step()\n",
    "    return float(loss)\n",
    "\n",
    "\n",
    "def test(pos_edge_index, neg_edge_index):\n",
    "    model.eval()\n",
    "    with torch.no_grad():\n",
    "        z = model.encode(x, train_pos_edge_index)\n",
    "        #Given latent variables z, positive edges pos_edge_index and negative edges neg_edge_index,\n",
    "        #computes area under the ROC curve (AUC) and average precision (AP) scores.\n",
    "        #print(z.shape)\n",
    "        ##print(pos_edge_index.shape)\n",
    "        #print(neg_edge_index.shape)\n",
    "    return model.test(z, pos_edge_index, neg_edge_index)"
   ]
  },
  {
   "cell_type": "code",
   "execution_count": 104,
   "id": "e3f9e15e",
   "metadata": {},
   "outputs": [],
   "source": [
    "# parameters\n",
    "out_channels = 10   #embedding \n",
    "num_features = pyg_graph_3.num_val.num_features  # in_channel= number of features\n",
    "epochs = 100\n",
    "\n",
    "\n",
    "device = torch.device('cuda' if torch.cuda.is_available() else 'cpu')\n",
    "\n",
    "# model\n",
    "#dobbiamo passare solo l encoder , il decoder by default è l inner product\n",
    "model = GAE(GCNEncoder(num_features, out_channels))\n",
    "\n",
    "model = model.to(device)\n",
    "x = pyg_graph_3.num_val.x.to(device)\n",
    "train_pos_edge_index = pyg_graph_3.num_val.train_pos_edge_index.to(device)\n",
    "\n",
    "# inizialize the optimizer\n",
    "optimizer = torch.optim.Adam(model.parameters(), lr=0.01)"
   ]
  },
  {
   "cell_type": "code",
   "execution_count": 109,
   "id": "5ed4b66d",
   "metadata": {},
   "outputs": [
    {
     "data": {
      "text/plain": [
       "torch.Size([2, 1188744])"
      ]
     },
     "execution_count": 109,
     "metadata": {},
     "output_type": "execute_result"
    }
   ],
   "source": [
    "pyg_graph_3.num_val.train_pos_edge_index.shape"
   ]
  },
  {
   "cell_type": "code",
   "execution_count": 110,
   "id": "afdcbb71",
   "metadata": {},
   "outputs": [
    {
     "data": {
      "text/plain": [
       "torch.Size([2, 69925])"
      ]
     },
     "execution_count": 110,
     "metadata": {},
     "output_type": "execute_result"
    }
   ],
   "source": [
    "pyg_graph_3.num_val.test_neg_edge_index.shape"
   ]
  },
  {
   "cell_type": "code",
   "execution_count": 111,
   "id": "47dbe309",
   "metadata": {},
   "outputs": [
    {
     "data": {
      "text/plain": [
       "1258669"
      ]
     },
     "execution_count": 111,
     "metadata": {},
     "output_type": "execute_result"
    }
   ],
   "source": [
    "1188744+69925"
   ]
  },
  {
   "cell_type": "code",
   "execution_count": 105,
   "id": "3d926f37",
   "metadata": {},
   "outputs": [
    {
     "name": "stdout",
     "output_type": "stream",
     "text": [
      "x.shape_enc_pre_conv1 torch.Size([19776, 20])\n",
      "x.shape_enc_ppost_conv1 torch.Size([19776, 20])\n",
      "x.shape_enc_ppost_conv2 torch.Size([19776, 10])\n",
      "x.shape_enc_pre_conv1 torch.Size([19776, 20])\n",
      "x.shape_enc_ppost_conv1 torch.Size([19776, 20])\n",
      "x.shape_enc_ppost_conv2 torch.Size([19776, 10])\n",
      "Epoch: 001, AUC: 0.8966, AP: 0.8948\n",
      "x.shape_enc_pre_conv1 torch.Size([19776, 20])\n",
      "x.shape_enc_ppost_conv1 torch.Size([19776, 20])\n",
      "x.shape_enc_ppost_conv2 torch.Size([19776, 10])\n",
      "x.shape_enc_pre_conv1 torch.Size([19776, 20])\n",
      "x.shape_enc_ppost_conv1 torch.Size([19776, 20])\n",
      "x.shape_enc_ppost_conv2 torch.Size([19776, 10])\n",
      "Epoch: 002, AUC: 0.8986, AP: 0.8965\n",
      "x.shape_enc_pre_conv1 torch.Size([19776, 20])\n",
      "x.shape_enc_ppost_conv1 torch.Size([19776, 20])\n",
      "x.shape_enc_ppost_conv2 torch.Size([19776, 10])\n"
     ]
    },
    {
     "ename": "KeyboardInterrupt",
     "evalue": "",
     "output_type": "error",
     "traceback": [
      "\u001b[1;31m---------------------------------------------------------------------------\u001b[0m",
      "\u001b[1;31mKeyboardInterrupt\u001b[0m                         Traceback (most recent call last)",
      "\u001b[1;32m~\\AppData\\Local\\Temp/ipykernel_14196/2473434533.py\u001b[0m in \u001b[0;36m<module>\u001b[1;34m\u001b[0m\n\u001b[0;32m      1\u001b[0m \u001b[1;32mfor\u001b[0m \u001b[0mepoch\u001b[0m \u001b[1;32min\u001b[0m \u001b[0mrange\u001b[0m\u001b[1;33m(\u001b[0m\u001b[1;36m1\u001b[0m\u001b[1;33m,\u001b[0m \u001b[0mepochs\u001b[0m \u001b[1;33m+\u001b[0m \u001b[1;36m1\u001b[0m\u001b[1;33m)\u001b[0m\u001b[1;33m:\u001b[0m\u001b[1;33m\u001b[0m\u001b[1;33m\u001b[0m\u001b[0m\n\u001b[1;32m----> 2\u001b[1;33m     \u001b[0mloss\u001b[0m \u001b[1;33m=\u001b[0m \u001b[0mtrain\u001b[0m\u001b[1;33m(\u001b[0m\u001b[1;33m)\u001b[0m\u001b[1;33m\u001b[0m\u001b[1;33m\u001b[0m\u001b[0m\n\u001b[0m\u001b[0;32m      3\u001b[0m     \u001b[0mauc\u001b[0m\u001b[1;33m,\u001b[0m \u001b[0map\u001b[0m \u001b[1;33m=\u001b[0m \u001b[0mtest\u001b[0m\u001b[1;33m(\u001b[0m\u001b[0mpyg_graph_3\u001b[0m\u001b[1;33m.\u001b[0m\u001b[0mnum_val\u001b[0m\u001b[1;33m.\u001b[0m\u001b[0mtest_pos_edge_index\u001b[0m\u001b[1;33m,\u001b[0m \u001b[0mpyg_graph_3\u001b[0m\u001b[1;33m.\u001b[0m\u001b[0mnum_val\u001b[0m\u001b[1;33m.\u001b[0m\u001b[0mtest_neg_edge_index\u001b[0m\u001b[1;33m)\u001b[0m\u001b[1;33m\u001b[0m\u001b[1;33m\u001b[0m\u001b[0m\n\u001b[0;32m      4\u001b[0m     \u001b[0mprint\u001b[0m\u001b[1;33m(\u001b[0m\u001b[1;34m'Epoch: {:03d}, AUC: {:.4f}, AP: {:.4f}'\u001b[0m\u001b[1;33m.\u001b[0m\u001b[0mformat\u001b[0m\u001b[1;33m(\u001b[0m\u001b[0mepoch\u001b[0m\u001b[1;33m,\u001b[0m \u001b[0mauc\u001b[0m\u001b[1;33m,\u001b[0m \u001b[0map\u001b[0m\u001b[1;33m)\u001b[0m\u001b[1;33m)\u001b[0m\u001b[1;33m\u001b[0m\u001b[1;33m\u001b[0m\u001b[0m\n",
      "\u001b[1;32m~\\AppData\\Local\\Temp/ipykernel_14196/2437403739.py\u001b[0m in \u001b[0;36mtrain\u001b[1;34m()\u001b[0m\n\u001b[0;32m      6\u001b[0m     \u001b[1;31m#print('z',z.shape)\u001b[0m\u001b[1;33m\u001b[0m\u001b[1;33m\u001b[0m\u001b[1;33m\u001b[0m\u001b[0m\n\u001b[0;32m      7\u001b[0m     \u001b[1;31m#Given latent variables z, computes the binary cross entropy loss for positive edges\u001b[0m\u001b[1;33m\u001b[0m\u001b[1;33m\u001b[0m\u001b[1;33m\u001b[0m\u001b[0m\n\u001b[1;32m----> 8\u001b[1;33m     \u001b[0mloss\u001b[0m \u001b[1;33m=\u001b[0m \u001b[0mmodel\u001b[0m\u001b[1;33m.\u001b[0m\u001b[0mrecon_loss\u001b[0m\u001b[1;33m(\u001b[0m\u001b[0mz\u001b[0m\u001b[1;33m,\u001b[0m \u001b[0mtrain_pos_edge_index\u001b[0m\u001b[1;33m)\u001b[0m \u001b[1;31m#reconstruction loss è un metodo del modello\u001b[0m\u001b[1;33m\u001b[0m\u001b[1;33m\u001b[0m\u001b[0m\n\u001b[0m\u001b[0;32m      9\u001b[0m     \u001b[1;31m#gia presente nella classe GAE\u001b[0m\u001b[1;33m\u001b[0m\u001b[1;33m\u001b[0m\u001b[1;33m\u001b[0m\u001b[0m\n\u001b[0;32m     10\u001b[0m     \u001b[1;31m#if args.variational:\u001b[0m\u001b[1;33m\u001b[0m\u001b[1;33m\u001b[0m\u001b[1;33m\u001b[0m\u001b[0m\n",
      "\u001b[1;32mc:\\users\\calni\\appdata\\local\\programs\\python\\python39\\lib\\site-packages\\torch_geometric\\nn\\models\\autoencoder.py\u001b[0m in \u001b[0;36mrecon_loss\u001b[1;34m(self, z, pos_edge_index, neg_edge_index)\u001b[0m\n\u001b[0;32m     96\u001b[0m         \u001b[0mpos_edge_index\u001b[0m\u001b[1;33m,\u001b[0m \u001b[0m_\u001b[0m \u001b[1;33m=\u001b[0m \u001b[0madd_self_loops\u001b[0m\u001b[1;33m(\u001b[0m\u001b[0mpos_edge_index\u001b[0m\u001b[1;33m)\u001b[0m\u001b[1;33m\u001b[0m\u001b[1;33m\u001b[0m\u001b[0m\n\u001b[0;32m     97\u001b[0m         \u001b[1;32mif\u001b[0m \u001b[0mneg_edge_index\u001b[0m \u001b[1;32mis\u001b[0m \u001b[1;32mNone\u001b[0m\u001b[1;33m:\u001b[0m\u001b[1;33m\u001b[0m\u001b[1;33m\u001b[0m\u001b[0m\n\u001b[1;32m---> 98\u001b[1;33m             \u001b[0mneg_edge_index\u001b[0m \u001b[1;33m=\u001b[0m \u001b[0mnegative_sampling\u001b[0m\u001b[1;33m(\u001b[0m\u001b[0mpos_edge_index\u001b[0m\u001b[1;33m,\u001b[0m \u001b[0mz\u001b[0m\u001b[1;33m.\u001b[0m\u001b[0msize\u001b[0m\u001b[1;33m(\u001b[0m\u001b[1;36m0\u001b[0m\u001b[1;33m)\u001b[0m\u001b[1;33m)\u001b[0m\u001b[1;33m\u001b[0m\u001b[1;33m\u001b[0m\u001b[0m\n\u001b[0m\u001b[0;32m     99\u001b[0m         neg_loss = -torch.log(1 -\n\u001b[0;32m    100\u001b[0m                               \u001b[0mself\u001b[0m\u001b[1;33m.\u001b[0m\u001b[0mdecoder\u001b[0m\u001b[1;33m(\u001b[0m\u001b[0mz\u001b[0m\u001b[1;33m,\u001b[0m \u001b[0mneg_edge_index\u001b[0m\u001b[1;33m,\u001b[0m \u001b[0msigmoid\u001b[0m\u001b[1;33m=\u001b[0m\u001b[1;32mTrue\u001b[0m\u001b[1;33m)\u001b[0m \u001b[1;33m+\u001b[0m\u001b[1;33m\u001b[0m\u001b[1;33m\u001b[0m\u001b[0m\n",
      "\u001b[1;32mc:\\users\\calni\\appdata\\local\\programs\\python\\python39\\lib\\site-packages\\torch_geometric\\utils\\negative_sampling.py\u001b[0m in \u001b[0;36mnegative_sampling\u001b[1;34m(edge_index, num_nodes, num_neg_samples, method, force_undirected)\u001b[0m\n\u001b[0;32m     79\u001b[0m         \u001b[0midx\u001b[0m \u001b[1;33m=\u001b[0m \u001b[0midx\u001b[0m\u001b[1;33m.\u001b[0m\u001b[0mto\u001b[0m\u001b[1;33m(\u001b[0m\u001b[1;34m'cpu'\u001b[0m\u001b[1;33m)\u001b[0m\u001b[1;33m\u001b[0m\u001b[1;33m\u001b[0m\u001b[0m\n\u001b[0;32m     80\u001b[0m         \u001b[1;32mfor\u001b[0m \u001b[0m_\u001b[0m \u001b[1;32min\u001b[0m \u001b[0mrange\u001b[0m\u001b[1;33m(\u001b[0m\u001b[1;36m3\u001b[0m\u001b[1;33m)\u001b[0m\u001b[1;33m:\u001b[0m  \u001b[1;31m# Number of tries to sample negative indices.\u001b[0m\u001b[1;33m\u001b[0m\u001b[1;33m\u001b[0m\u001b[0m\n\u001b[1;32m---> 81\u001b[1;33m             \u001b[0mrnd\u001b[0m \u001b[1;33m=\u001b[0m \u001b[0msample\u001b[0m\u001b[1;33m(\u001b[0m\u001b[0mpopulation\u001b[0m\u001b[1;33m,\u001b[0m \u001b[0msample_size\u001b[0m\u001b[1;33m,\u001b[0m \u001b[0mdevice\u001b[0m\u001b[1;33m=\u001b[0m\u001b[1;34m'cpu'\u001b[0m\u001b[1;33m)\u001b[0m\u001b[1;33m\u001b[0m\u001b[1;33m\u001b[0m\u001b[0m\n\u001b[0m\u001b[0;32m     82\u001b[0m             \u001b[0mmask\u001b[0m \u001b[1;33m=\u001b[0m \u001b[0mnp\u001b[0m\u001b[1;33m.\u001b[0m\u001b[0misin\u001b[0m\u001b[1;33m(\u001b[0m\u001b[0mrnd\u001b[0m\u001b[1;33m,\u001b[0m \u001b[0midx\u001b[0m\u001b[1;33m)\u001b[0m\u001b[1;33m\u001b[0m\u001b[1;33m\u001b[0m\u001b[0m\n\u001b[0;32m     83\u001b[0m             \u001b[1;32mif\u001b[0m \u001b[0mneg_idx\u001b[0m \u001b[1;32mis\u001b[0m \u001b[1;32mnot\u001b[0m \u001b[1;32mNone\u001b[0m\u001b[1;33m:\u001b[0m\u001b[1;33m\u001b[0m\u001b[1;33m\u001b[0m\u001b[0m\n",
      "\u001b[1;32mc:\\users\\calni\\appdata\\local\\programs\\python\\python39\\lib\\site-packages\\torch_geometric\\utils\\negative_sampling.py\u001b[0m in \u001b[0;36msample\u001b[1;34m(population, k, device)\u001b[0m\n\u001b[0;32m    237\u001b[0m         \u001b[1;32mreturn\u001b[0m \u001b[0mtorch\u001b[0m\u001b[1;33m.\u001b[0m\u001b[0marange\u001b[0m\u001b[1;33m(\u001b[0m\u001b[0mpopulation\u001b[0m\u001b[1;33m,\u001b[0m \u001b[0mdevice\u001b[0m\u001b[1;33m=\u001b[0m\u001b[0mdevice\u001b[0m\u001b[1;33m)\u001b[0m\u001b[1;33m\u001b[0m\u001b[1;33m\u001b[0m\u001b[0m\n\u001b[0;32m    238\u001b[0m     \u001b[1;32melse\u001b[0m\u001b[1;33m:\u001b[0m\u001b[1;33m\u001b[0m\u001b[1;33m\u001b[0m\u001b[0m\n\u001b[1;32m--> 239\u001b[1;33m         \u001b[1;32mreturn\u001b[0m \u001b[0mtorch\u001b[0m\u001b[1;33m.\u001b[0m\u001b[0mtensor\u001b[0m\u001b[1;33m(\u001b[0m\u001b[0mrandom\u001b[0m\u001b[1;33m.\u001b[0m\u001b[0msample\u001b[0m\u001b[1;33m(\u001b[0m\u001b[0mrange\u001b[0m\u001b[1;33m(\u001b[0m\u001b[0mpopulation\u001b[0m\u001b[1;33m)\u001b[0m\u001b[1;33m,\u001b[0m \u001b[0mk\u001b[0m\u001b[1;33m)\u001b[0m\u001b[1;33m,\u001b[0m \u001b[0mdevice\u001b[0m\u001b[1;33m=\u001b[0m\u001b[0mdevice\u001b[0m\u001b[1;33m)\u001b[0m\u001b[1;33m\u001b[0m\u001b[1;33m\u001b[0m\u001b[0m\n\u001b[0m\u001b[0;32m    240\u001b[0m \u001b[1;33m\u001b[0m\u001b[0m\n\u001b[0;32m    241\u001b[0m \u001b[1;33m\u001b[0m\u001b[0m\n",
      "\u001b[1;32mc:\\users\\calni\\appdata\\local\\programs\\python\\python39\\lib\\random.py\u001b[0m in \u001b[0;36msample\u001b[1;34m(self, population, k, counts)\u001b[0m\n\u001b[0;32m    468\u001b[0m                     \u001b[0mj\u001b[0m \u001b[1;33m=\u001b[0m \u001b[0mrandbelow\u001b[0m\u001b[1;33m(\u001b[0m\u001b[0mn\u001b[0m\u001b[1;33m)\u001b[0m\u001b[1;33m\u001b[0m\u001b[1;33m\u001b[0m\u001b[0m\n\u001b[0;32m    469\u001b[0m                 \u001b[0mselected_add\u001b[0m\u001b[1;33m(\u001b[0m\u001b[0mj\u001b[0m\u001b[1;33m)\u001b[0m\u001b[1;33m\u001b[0m\u001b[1;33m\u001b[0m\u001b[0m\n\u001b[1;32m--> 470\u001b[1;33m                 \u001b[0mresult\u001b[0m\u001b[1;33m[\u001b[0m\u001b[0mi\u001b[0m\u001b[1;33m]\u001b[0m \u001b[1;33m=\u001b[0m \u001b[0mpopulation\u001b[0m\u001b[1;33m[\u001b[0m\u001b[0mj\u001b[0m\u001b[1;33m]\u001b[0m\u001b[1;33m\u001b[0m\u001b[1;33m\u001b[0m\u001b[0m\n\u001b[0m\u001b[0;32m    471\u001b[0m         \u001b[1;32mreturn\u001b[0m \u001b[0mresult\u001b[0m\u001b[1;33m\u001b[0m\u001b[1;33m\u001b[0m\u001b[0m\n\u001b[0;32m    472\u001b[0m \u001b[1;33m\u001b[0m\u001b[0m\n",
      "\u001b[1;31mKeyboardInterrupt\u001b[0m: "
     ]
    }
   ],
   "source": [
    "for epoch in range(1, epochs + 1):\n",
    "    loss = train()\n",
    "    auc, ap = test(pyg_graph_3.num_val.test_pos_edge_index, pyg_graph_3.num_val.test_neg_edge_index)\n",
    "    print('Epoch: {:03d}, AUC: {:.4f}, AP: {:.4f}'.format(epoch, auc, ap))"
   ]
  },
  {
   "cell_type": "code",
   "execution_count": 68,
   "id": "5ccebd50",
   "metadata": {},
   "outputs": [],
   "source": [
    "writer = SummaryWriter('runs/GAE1_experiment_'+'10d_100_epochs')"
   ]
  },
  {
   "cell_type": "code",
   "execution_count": 69,
   "id": "0af8f37e",
   "metadata": {},
   "outputs": [
    {
     "name": "stdout",
     "output_type": "stream",
     "text": [
      "Epoch: 001, AUC: 0.8754, AP: 0.8708\n",
      "Epoch: 002, AUC: 0.8770, AP: 0.8733\n",
      "Epoch: 003, AUC: 0.8798, AP: 0.8763\n",
      "Epoch: 004, AUC: 0.8834, AP: 0.8803\n",
      "Epoch: 005, AUC: 0.8864, AP: 0.8835\n",
      "Epoch: 006, AUC: 0.8894, AP: 0.8867\n",
      "Epoch: 007, AUC: 0.8928, AP: 0.8903\n",
      "Epoch: 008, AUC: 0.8963, AP: 0.8939\n",
      "Epoch: 009, AUC: 0.8995, AP: 0.8971\n",
      "Epoch: 010, AUC: 0.9019, AP: 0.8995\n",
      "Epoch: 011, AUC: 0.9035, AP: 0.9011\n",
      "Epoch: 012, AUC: 0.9047, AP: 0.9022\n",
      "Epoch: 013, AUC: 0.9056, AP: 0.9030\n",
      "Epoch: 014, AUC: 0.9067, AP: 0.9041\n",
      "Epoch: 015, AUC: 0.9082, AP: 0.9055\n",
      "Epoch: 016, AUC: 0.9101, AP: 0.9073\n",
      "Epoch: 017, AUC: 0.9122, AP: 0.9095\n",
      "Epoch: 018, AUC: 0.9139, AP: 0.9115\n",
      "Epoch: 019, AUC: 0.9143, AP: 0.9126\n",
      "Epoch: 020, AUC: 0.9137, AP: 0.9130\n",
      "Epoch: 021, AUC: 0.9137, AP: 0.9133\n",
      "Epoch: 022, AUC: 0.9142, AP: 0.9138\n",
      "Epoch: 023, AUC: 0.9143, AP: 0.9140\n",
      "Epoch: 024, AUC: 0.9128, AP: 0.9132\n",
      "Epoch: 025, AUC: 0.9087, AP: 0.9108\n",
      "Epoch: 026, AUC: 0.9024, AP: 0.9067\n",
      "Epoch: 027, AUC: 0.8978, AP: 0.9036\n",
      "Epoch: 028, AUC: 0.8977, AP: 0.9037\n",
      "Epoch: 029, AUC: 0.8995, AP: 0.9050\n",
      "Epoch: 030, AUC: 0.8995, AP: 0.9051\n",
      "Epoch: 031, AUC: 0.8966, AP: 0.9031\n",
      "Epoch: 032, AUC: 0.8922, AP: 0.9002\n",
      "Epoch: 033, AUC: 0.8898, AP: 0.8988\n",
      "Epoch: 034, AUC: 0.8915, AP: 0.9005\n",
      "Epoch: 035, AUC: 0.8949, AP: 0.9034\n",
      "Epoch: 036, AUC: 0.8971, AP: 0.9053\n",
      "Epoch: 037, AUC: 0.8967, AP: 0.9053\n",
      "Epoch: 038, AUC: 0.8947, AP: 0.9043\n",
      "Epoch: 039, AUC: 0.8938, AP: 0.9039\n",
      "Epoch: 040, AUC: 0.8955, AP: 0.9054\n",
      "Epoch: 041, AUC: 0.8980, AP: 0.9072\n",
      "Epoch: 042, AUC: 0.8988, AP: 0.9079\n",
      "Epoch: 043, AUC: 0.8975, AP: 0.9072\n",
      "Epoch: 044, AUC: 0.8954, AP: 0.9061\n",
      "Epoch: 045, AUC: 0.8950, AP: 0.9060\n",
      "Epoch: 046, AUC: 0.8966, AP: 0.9072\n",
      "Epoch: 047, AUC: 0.8980, AP: 0.9082\n",
      "Epoch: 048, AUC: 0.8978, AP: 0.9082\n",
      "Epoch: 049, AUC: 0.8964, AP: 0.9076\n",
      "Epoch: 050, AUC: 0.8957, AP: 0.9073\n",
      "Epoch: 051, AUC: 0.8965, AP: 0.9079\n",
      "Epoch: 052, AUC: 0.8980, AP: 0.9090\n",
      "Epoch: 053, AUC: 0.8985, AP: 0.9094\n",
      "Epoch: 054, AUC: 0.8974, AP: 0.9089\n",
      "Epoch: 055, AUC: 0.8962, AP: 0.9082\n",
      "Epoch: 056, AUC: 0.8963, AP: 0.9084\n",
      "Epoch: 057, AUC: 0.8976, AP: 0.9094\n",
      "Epoch: 058, AUC: 0.8985, AP: 0.9100\n",
      "Epoch: 059, AUC: 0.8979, AP: 0.9097\n",
      "Epoch: 060, AUC: 0.8968, AP: 0.9091\n",
      "Epoch: 061, AUC: 0.8971, AP: 0.9093\n",
      "Epoch: 062, AUC: 0.8983, AP: 0.9102\n",
      "Epoch: 063, AUC: 0.8992, AP: 0.9109\n",
      "Epoch: 064, AUC: 0.8989, AP: 0.9108\n",
      "Epoch: 065, AUC: 0.8984, AP: 0.9105\n",
      "Epoch: 066, AUC: 0.8986, AP: 0.9107\n",
      "Epoch: 067, AUC: 0.8997, AP: 0.9115\n",
      "Epoch: 068, AUC: 0.9006, AP: 0.9122\n",
      "Epoch: 069, AUC: 0.9005, AP: 0.9122\n",
      "Epoch: 070, AUC: 0.9000, AP: 0.9119\n",
      "Epoch: 071, AUC: 0.9000, AP: 0.9119\n",
      "Epoch: 072, AUC: 0.9010, AP: 0.9126\n",
      "Epoch: 073, AUC: 0.9018, AP: 0.9131\n",
      "Epoch: 074, AUC: 0.9016, AP: 0.9130\n",
      "Epoch: 075, AUC: 0.9012, AP: 0.9128\n",
      "Epoch: 076, AUC: 0.9015, AP: 0.9130\n",
      "Epoch: 077, AUC: 0.9022, AP: 0.9135\n",
      "Epoch: 078, AUC: 0.9025, AP: 0.9136\n",
      "Epoch: 079, AUC: 0.9020, AP: 0.9133\n",
      "Epoch: 080, AUC: 0.9018, AP: 0.9132\n",
      "Epoch: 081, AUC: 0.9025, AP: 0.9137\n",
      "Epoch: 082, AUC: 0.9029, AP: 0.9139\n",
      "Epoch: 083, AUC: 0.9025, AP: 0.9137\n",
      "Epoch: 084, AUC: 0.9022, AP: 0.9135\n",
      "Epoch: 085, AUC: 0.9029, AP: 0.9140\n",
      "Epoch: 086, AUC: 0.9033, AP: 0.9143\n",
      "Epoch: 087, AUC: 0.9030, AP: 0.9142\n",
      "Epoch: 088, AUC: 0.9026, AP: 0.9140\n",
      "Epoch: 089, AUC: 0.9030, AP: 0.9143\n",
      "Epoch: 090, AUC: 0.9036, AP: 0.9146\n",
      "Epoch: 091, AUC: 0.9032, AP: 0.9144\n",
      "Epoch: 092, AUC: 0.9031, AP: 0.9144\n",
      "Epoch: 093, AUC: 0.9034, AP: 0.9147\n",
      "Epoch: 094, AUC: 0.9039, AP: 0.9150\n",
      "Epoch: 095, AUC: 0.9039, AP: 0.9151\n",
      "Epoch: 096, AUC: 0.9035, AP: 0.9149\n",
      "Epoch: 097, AUC: 0.9039, AP: 0.9152\n",
      "Epoch: 098, AUC: 0.9046, AP: 0.9156\n",
      "Epoch: 099, AUC: 0.9044, AP: 0.9155\n",
      "Epoch: 100, AUC: 0.9041, AP: 0.9154\n"
     ]
    }
   ],
   "source": [
    "for epoch in range(1, epochs + 1):\n",
    "    loss = train()\n",
    "    auc, ap = test(pyg_graph_3.num_val.test_pos_edge_index, pyg_graph_3.num_val.test_neg_edge_index)\n",
    "    print('Epoch: {:03d}, AUC: {:.4f}, AP: {:.4f}'.format(epoch, auc, ap))\n",
    "    \n",
    "    \n",
    "    writer.add_scalar('auc train',auc,epoch) # new line\n",
    "    writer.add_scalar('ap train',ap,epoch)   # new line"
   ]
  },
  {
   "cell_type": "code",
   "execution_count": 106,
   "id": "78cf4e8a",
   "metadata": {},
   "outputs": [],
   "source": [
    "# parameters\n",
    "latent_dim = 10   #embedding \n",
    "num_features = pyg_graph_3.num_val.num_features  # in_channel= number of features\n",
    "epochs = 100\n",
    "\n",
    "\n",
    "device = torch.device('cuda' if torch.cuda.is_available() else 'cpu')\n",
    "\n",
    "# model\n",
    "#dobbiamo passare solo l encoder , il decoder by default è l inner product\n",
    "model = GAE(GCNEncoder(num_features, latent_dim),GCNDecoder(latent_dim))\n",
    "\n",
    "model = model.to(device)\n",
    "x = pyg_graph_3.num_val.x.to(device)\n",
    "train_pos_edge_index = pyg_graph_3.num_val.train_pos_edge_index.to(device)\n",
    "\n",
    "# inizialize the optimizer\n",
    "optimizer = torch.optim.Adam(model.parameters(), lr=0.01)"
   ]
  },
  {
   "cell_type": "code",
   "execution_count": 107,
   "id": "67fcaae8",
   "metadata": {},
   "outputs": [
    {
     "data": {
      "text/plain": [
       "GAE(\n",
       "  (encoder): GCNEncoder(\n",
       "    (conv1): GCNConv(20, 20)\n",
       "    (conv2): GCNConv(20, 10)\n",
       "  )\n",
       "  (decoder): GCNDecoder(\n",
       "    (conv1): GCNConv(20, 10)\n",
       "    (conv2): GCNConv(10, 1)\n",
       "  )\n",
       ")"
      ]
     },
     "execution_count": 107,
     "metadata": {},
     "output_type": "execute_result"
    }
   ],
   "source": [
    "model"
   ]
  },
  {
   "cell_type": "code",
   "execution_count": 108,
   "id": "dd800fcc",
   "metadata": {},
   "outputs": [
    {
     "name": "stdout",
     "output_type": "stream",
     "text": [
      "x.shape_enc_pre_conv1 torch.Size([19776, 20])\n",
      "x.shape_enc_ppost_conv1 torch.Size([19776, 20])\n",
      "x.shape_enc_ppost_conv2 torch.Size([19776, 10])\n",
      "z shape dopo cat torch.Size([1188744, 20])\n",
      "z shape dopo conv 1 dec torch.Size([1188744, 10])\n",
      "out shape dopo conv 2 dec torch.Size([1188744, 1])\n",
      "z shape dopo cat torch.Size([1208520, 20])\n",
      "z shape dopo conv 1 dec torch.Size([1208520, 10])\n",
      "out shape dopo conv 2 dec torch.Size([1208520, 1])\n",
      "x.shape_enc_pre_conv1 torch.Size([19776, 20])\n",
      "x.shape_enc_ppost_conv1 torch.Size([19776, 20])\n",
      "x.shape_enc_ppost_conv2 torch.Size([19776, 10])\n",
      "z shape dopo cat torch.Size([69925, 20])\n"
     ]
    },
    {
     "ename": "IndexError",
     "evalue": "index out of range in self",
     "output_type": "error",
     "traceback": [
      "\u001b[1;31m---------------------------------------------------------------------------\u001b[0m",
      "\u001b[1;31mIndexError\u001b[0m                                Traceback (most recent call last)",
      "\u001b[1;32m~\\AppData\\Local\\Temp/ipykernel_14196/2473434533.py\u001b[0m in \u001b[0;36m<module>\u001b[1;34m\u001b[0m\n\u001b[0;32m      1\u001b[0m \u001b[1;32mfor\u001b[0m \u001b[0mepoch\u001b[0m \u001b[1;32min\u001b[0m \u001b[0mrange\u001b[0m\u001b[1;33m(\u001b[0m\u001b[1;36m1\u001b[0m\u001b[1;33m,\u001b[0m \u001b[0mepochs\u001b[0m \u001b[1;33m+\u001b[0m \u001b[1;36m1\u001b[0m\u001b[1;33m)\u001b[0m\u001b[1;33m:\u001b[0m\u001b[1;33m\u001b[0m\u001b[1;33m\u001b[0m\u001b[0m\n\u001b[0;32m      2\u001b[0m     \u001b[0mloss\u001b[0m \u001b[1;33m=\u001b[0m \u001b[0mtrain\u001b[0m\u001b[1;33m(\u001b[0m\u001b[1;33m)\u001b[0m\u001b[1;33m\u001b[0m\u001b[1;33m\u001b[0m\u001b[0m\n\u001b[1;32m----> 3\u001b[1;33m     \u001b[0mauc\u001b[0m\u001b[1;33m,\u001b[0m \u001b[0map\u001b[0m \u001b[1;33m=\u001b[0m \u001b[0mtest\u001b[0m\u001b[1;33m(\u001b[0m\u001b[0mpyg_graph_3\u001b[0m\u001b[1;33m.\u001b[0m\u001b[0mnum_val\u001b[0m\u001b[1;33m.\u001b[0m\u001b[0mtest_pos_edge_index\u001b[0m\u001b[1;33m,\u001b[0m \u001b[0mpyg_graph_3\u001b[0m\u001b[1;33m.\u001b[0m\u001b[0mnum_val\u001b[0m\u001b[1;33m.\u001b[0m\u001b[0mtest_neg_edge_index\u001b[0m\u001b[1;33m)\u001b[0m\u001b[1;33m\u001b[0m\u001b[1;33m\u001b[0m\u001b[0m\n\u001b[0m\u001b[0;32m      4\u001b[0m     \u001b[0mprint\u001b[0m\u001b[1;33m(\u001b[0m\u001b[1;34m'Epoch: {:03d}, AUC: {:.4f}, AP: {:.4f}'\u001b[0m\u001b[1;33m.\u001b[0m\u001b[0mformat\u001b[0m\u001b[1;33m(\u001b[0m\u001b[0mepoch\u001b[0m\u001b[1;33m,\u001b[0m \u001b[0mauc\u001b[0m\u001b[1;33m,\u001b[0m \u001b[0map\u001b[0m\u001b[1;33m)\u001b[0m\u001b[1;33m)\u001b[0m\u001b[1;33m\u001b[0m\u001b[1;33m\u001b[0m\u001b[0m\n",
      "\u001b[1;32m~\\AppData\\Local\\Temp/ipykernel_14196/2437403739.py\u001b[0m in \u001b[0;36mtest\u001b[1;34m(pos_edge_index, neg_edge_index)\u001b[0m\n\u001b[0;32m     24\u001b[0m         \u001b[1;31m##print(pos_edge_index.shape)\u001b[0m\u001b[1;33m\u001b[0m\u001b[1;33m\u001b[0m\u001b[1;33m\u001b[0m\u001b[0m\n\u001b[0;32m     25\u001b[0m         \u001b[1;31m#print(neg_edge_index.shape)\u001b[0m\u001b[1;33m\u001b[0m\u001b[1;33m\u001b[0m\u001b[1;33m\u001b[0m\u001b[0m\n\u001b[1;32m---> 26\u001b[1;33m     \u001b[1;32mreturn\u001b[0m \u001b[0mmodel\u001b[0m\u001b[1;33m.\u001b[0m\u001b[0mtest\u001b[0m\u001b[1;33m(\u001b[0m\u001b[0mz\u001b[0m\u001b[1;33m,\u001b[0m \u001b[0mpos_edge_index\u001b[0m\u001b[1;33m,\u001b[0m \u001b[0mneg_edge_index\u001b[0m\u001b[1;33m)\u001b[0m\u001b[1;33m\u001b[0m\u001b[1;33m\u001b[0m\u001b[0m\n\u001b[0m",
      "\u001b[1;32mc:\\users\\calni\\appdata\\local\\programs\\python\\python39\\lib\\site-packages\\torch_geometric\\nn\\models\\autoencoder.py\u001b[0m in \u001b[0;36mtest\u001b[1;34m(self, z, pos_edge_index, neg_edge_index)\u001b[0m\n\u001b[0;32m    122\u001b[0m         \u001b[0my\u001b[0m \u001b[1;33m=\u001b[0m \u001b[0mtorch\u001b[0m\u001b[1;33m.\u001b[0m\u001b[0mcat\u001b[0m\u001b[1;33m(\u001b[0m\u001b[1;33m[\u001b[0m\u001b[0mpos_y\u001b[0m\u001b[1;33m,\u001b[0m \u001b[0mneg_y\u001b[0m\u001b[1;33m]\u001b[0m\u001b[1;33m,\u001b[0m \u001b[0mdim\u001b[0m\u001b[1;33m=\u001b[0m\u001b[1;36m0\u001b[0m\u001b[1;33m)\u001b[0m\u001b[1;33m\u001b[0m\u001b[1;33m\u001b[0m\u001b[0m\n\u001b[0;32m    123\u001b[0m \u001b[1;33m\u001b[0m\u001b[0m\n\u001b[1;32m--> 124\u001b[1;33m         \u001b[0mpos_pred\u001b[0m \u001b[1;33m=\u001b[0m \u001b[0mself\u001b[0m\u001b[1;33m.\u001b[0m\u001b[0mdecoder\u001b[0m\u001b[1;33m(\u001b[0m\u001b[0mz\u001b[0m\u001b[1;33m,\u001b[0m \u001b[0mpos_edge_index\u001b[0m\u001b[1;33m,\u001b[0m \u001b[0msigmoid\u001b[0m\u001b[1;33m=\u001b[0m\u001b[1;32mTrue\u001b[0m\u001b[1;33m)\u001b[0m\u001b[1;33m\u001b[0m\u001b[1;33m\u001b[0m\u001b[0m\n\u001b[0m\u001b[0;32m    125\u001b[0m         \u001b[0mneg_pred\u001b[0m \u001b[1;33m=\u001b[0m \u001b[0mself\u001b[0m\u001b[1;33m.\u001b[0m\u001b[0mdecoder\u001b[0m\u001b[1;33m(\u001b[0m\u001b[0mz\u001b[0m\u001b[1;33m,\u001b[0m \u001b[0mneg_edge_index\u001b[0m\u001b[1;33m,\u001b[0m \u001b[0msigmoid\u001b[0m\u001b[1;33m=\u001b[0m\u001b[1;32mTrue\u001b[0m\u001b[1;33m)\u001b[0m\u001b[1;33m\u001b[0m\u001b[1;33m\u001b[0m\u001b[0m\n\u001b[0;32m    126\u001b[0m         \u001b[0mpred\u001b[0m \u001b[1;33m=\u001b[0m \u001b[0mtorch\u001b[0m\u001b[1;33m.\u001b[0m\u001b[0mcat\u001b[0m\u001b[1;33m(\u001b[0m\u001b[1;33m[\u001b[0m\u001b[0mpos_pred\u001b[0m\u001b[1;33m,\u001b[0m \u001b[0mneg_pred\u001b[0m\u001b[1;33m]\u001b[0m\u001b[1;33m,\u001b[0m \u001b[0mdim\u001b[0m\u001b[1;33m=\u001b[0m\u001b[1;36m0\u001b[0m\u001b[1;33m)\u001b[0m\u001b[1;33m\u001b[0m\u001b[1;33m\u001b[0m\u001b[0m\n",
      "\u001b[1;32mc:\\users\\calni\\appdata\\local\\programs\\python\\python39\\lib\\site-packages\\torch\\nn\\modules\\module.py\u001b[0m in \u001b[0;36m_call_impl\u001b[1;34m(self, *input, **kwargs)\u001b[0m\n\u001b[0;32m   1100\u001b[0m         if not (self._backward_hooks or self._forward_hooks or self._forward_pre_hooks or _global_backward_hooks\n\u001b[0;32m   1101\u001b[0m                 or _global_forward_hooks or _global_forward_pre_hooks):\n\u001b[1;32m-> 1102\u001b[1;33m             \u001b[1;32mreturn\u001b[0m \u001b[0mforward_call\u001b[0m\u001b[1;33m(\u001b[0m\u001b[1;33m*\u001b[0m\u001b[0minput\u001b[0m\u001b[1;33m,\u001b[0m \u001b[1;33m**\u001b[0m\u001b[0mkwargs\u001b[0m\u001b[1;33m)\u001b[0m\u001b[1;33m\u001b[0m\u001b[1;33m\u001b[0m\u001b[0m\n\u001b[0m\u001b[0;32m   1103\u001b[0m         \u001b[1;31m# Do not call functions when jit is used\u001b[0m\u001b[1;33m\u001b[0m\u001b[1;33m\u001b[0m\u001b[1;33m\u001b[0m\u001b[0m\n\u001b[0;32m   1104\u001b[0m         \u001b[0mfull_backward_hooks\u001b[0m\u001b[1;33m,\u001b[0m \u001b[0mnon_full_backward_hooks\u001b[0m \u001b[1;33m=\u001b[0m \u001b[1;33m[\u001b[0m\u001b[1;33m]\u001b[0m\u001b[1;33m,\u001b[0m \u001b[1;33m[\u001b[0m\u001b[1;33m]\u001b[0m\u001b[1;33m\u001b[0m\u001b[1;33m\u001b[0m\u001b[0m\n",
      "\u001b[1;32m~\\AppData\\Local\\Temp/ipykernel_14196/3765299960.py\u001b[0m in \u001b[0;36mforward\u001b[1;34m(self, z, edge_index, sigmoid)\u001b[0m\n\u001b[0;32m      9\u001b[0m         \u001b[0mz\u001b[0m\u001b[1;33m=\u001b[0m\u001b[0mtorch\u001b[0m\u001b[1;33m.\u001b[0m\u001b[0mcat\u001b[0m\u001b[1;33m(\u001b[0m\u001b[1;33m(\u001b[0m\u001b[0mz\u001b[0m\u001b[1;33m[\u001b[0m\u001b[0medge_index\u001b[0m\u001b[1;33m[\u001b[0m\u001b[1;36m0\u001b[0m\u001b[1;33m]\u001b[0m\u001b[1;33m]\u001b[0m\u001b[1;33m,\u001b[0m\u001b[0mz\u001b[0m\u001b[1;33m[\u001b[0m\u001b[0medge_index\u001b[0m\u001b[1;33m[\u001b[0m\u001b[1;36m1\u001b[0m\u001b[1;33m]\u001b[0m\u001b[1;33m]\u001b[0m\u001b[1;33m)\u001b[0m\u001b[1;33m,\u001b[0m\u001b[0mdim\u001b[0m\u001b[1;33m=\u001b[0m\u001b[1;36m1\u001b[0m\u001b[1;33m)\u001b[0m\u001b[1;33m\u001b[0m\u001b[1;33m\u001b[0m\u001b[0m\n\u001b[0;32m     10\u001b[0m         \u001b[0mprint\u001b[0m\u001b[1;33m(\u001b[0m\u001b[1;34m'z shape dopo cat'\u001b[0m\u001b[1;33m,\u001b[0m\u001b[0mz\u001b[0m\u001b[1;33m.\u001b[0m\u001b[0mshape\u001b[0m\u001b[1;33m)\u001b[0m\u001b[1;33m\u001b[0m\u001b[1;33m\u001b[0m\u001b[0m\n\u001b[1;32m---> 11\u001b[1;33m         \u001b[0mz\u001b[0m\u001b[1;33m=\u001b[0m\u001b[0mself\u001b[0m\u001b[1;33m.\u001b[0m\u001b[0mconv1\u001b[0m\u001b[1;33m(\u001b[0m\u001b[0mz\u001b[0m\u001b[1;33m,\u001b[0m \u001b[0medge_index\u001b[0m\u001b[1;33m)\u001b[0m\u001b[1;33m.\u001b[0m\u001b[0mrelu\u001b[0m\u001b[1;33m(\u001b[0m\u001b[1;33m)\u001b[0m\u001b[1;33m\u001b[0m\u001b[1;33m\u001b[0m\u001b[0m\n\u001b[0m\u001b[0;32m     12\u001b[0m         \u001b[0mprint\u001b[0m\u001b[1;33m(\u001b[0m\u001b[1;34m'z shape dopo conv 1 dec'\u001b[0m\u001b[1;33m,\u001b[0m\u001b[0mz\u001b[0m\u001b[1;33m.\u001b[0m\u001b[0mshape\u001b[0m\u001b[1;33m)\u001b[0m\u001b[1;33m\u001b[0m\u001b[1;33m\u001b[0m\u001b[0m\n\u001b[0;32m     13\u001b[0m         \u001b[0mout\u001b[0m\u001b[1;33m=\u001b[0m\u001b[0mself\u001b[0m\u001b[1;33m.\u001b[0m\u001b[0mconv2\u001b[0m\u001b[1;33m(\u001b[0m\u001b[0mz\u001b[0m\u001b[1;33m,\u001b[0m \u001b[0medge_index\u001b[0m\u001b[1;33m)\u001b[0m\u001b[1;33m.\u001b[0m\u001b[0msigmoid\u001b[0m\u001b[1;33m(\u001b[0m\u001b[1;33m)\u001b[0m\u001b[1;33m\u001b[0m\u001b[1;33m\u001b[0m\u001b[0m\n",
      "\u001b[1;32mc:\\users\\calni\\appdata\\local\\programs\\python\\python39\\lib\\site-packages\\torch\\nn\\modules\\module.py\u001b[0m in \u001b[0;36m_call_impl\u001b[1;34m(self, *input, **kwargs)\u001b[0m\n\u001b[0;32m   1100\u001b[0m         if not (self._backward_hooks or self._forward_hooks or self._forward_pre_hooks or _global_backward_hooks\n\u001b[0;32m   1101\u001b[0m                 or _global_forward_hooks or _global_forward_pre_hooks):\n\u001b[1;32m-> 1102\u001b[1;33m             \u001b[1;32mreturn\u001b[0m \u001b[0mforward_call\u001b[0m\u001b[1;33m(\u001b[0m\u001b[1;33m*\u001b[0m\u001b[0minput\u001b[0m\u001b[1;33m,\u001b[0m \u001b[1;33m**\u001b[0m\u001b[0mkwargs\u001b[0m\u001b[1;33m)\u001b[0m\u001b[1;33m\u001b[0m\u001b[1;33m\u001b[0m\u001b[0m\n\u001b[0m\u001b[0;32m   1103\u001b[0m         \u001b[1;31m# Do not call functions when jit is used\u001b[0m\u001b[1;33m\u001b[0m\u001b[1;33m\u001b[0m\u001b[1;33m\u001b[0m\u001b[0m\n\u001b[0;32m   1104\u001b[0m         \u001b[0mfull_backward_hooks\u001b[0m\u001b[1;33m,\u001b[0m \u001b[0mnon_full_backward_hooks\u001b[0m \u001b[1;33m=\u001b[0m \u001b[1;33m[\u001b[0m\u001b[1;33m]\u001b[0m\u001b[1;33m,\u001b[0m \u001b[1;33m[\u001b[0m\u001b[1;33m]\u001b[0m\u001b[1;33m\u001b[0m\u001b[1;33m\u001b[0m\u001b[0m\n",
      "\u001b[1;32mc:\\users\\calni\\appdata\\local\\programs\\python\\python39\\lib\\site-packages\\torch_geometric\\nn\\conv\\gcn_conv.py\u001b[0m in \u001b[0;36mforward\u001b[1;34m(self, x, edge_index, edge_weight)\u001b[0m\n\u001b[0;32m    192\u001b[0m \u001b[1;33m\u001b[0m\u001b[0m\n\u001b[0;32m    193\u001b[0m         \u001b[1;31m# propagate_type: (x: Tensor, edge_weight: OptTensor)\u001b[0m\u001b[1;33m\u001b[0m\u001b[1;33m\u001b[0m\u001b[1;33m\u001b[0m\u001b[0m\n\u001b[1;32m--> 194\u001b[1;33m         out = self.propagate(edge_index, x=x, edge_weight=edge_weight,\n\u001b[0m\u001b[0;32m    195\u001b[0m                              size=None)\n\u001b[0;32m    196\u001b[0m \u001b[1;33m\u001b[0m\u001b[0m\n",
      "\u001b[1;32mc:\\users\\calni\\appdata\\local\\programs\\python\\python39\\lib\\site-packages\\torch_geometric\\nn\\conv\\message_passing.py\u001b[0m in \u001b[0;36mpropagate\u001b[1;34m(self, edge_index, size, **kwargs)\u001b[0m\n\u001b[0;32m    307\u001b[0m                         \u001b[0mkwargs\u001b[0m\u001b[1;33m[\u001b[0m\u001b[0marg\u001b[0m\u001b[1;33m]\u001b[0m \u001b[1;33m=\u001b[0m \u001b[0mdecomp_kwargs\u001b[0m\u001b[1;33m[\u001b[0m\u001b[0marg\u001b[0m\u001b[1;33m]\u001b[0m\u001b[1;33m[\u001b[0m\u001b[0mi\u001b[0m\u001b[1;33m]\u001b[0m\u001b[1;33m\u001b[0m\u001b[1;33m\u001b[0m\u001b[0m\n\u001b[0;32m    308\u001b[0m \u001b[1;33m\u001b[0m\u001b[0m\n\u001b[1;32m--> 309\u001b[1;33m                 coll_dict = self.__collect__(self.__user_args__, edge_index,\n\u001b[0m\u001b[0;32m    310\u001b[0m                                              size, kwargs)\n\u001b[0;32m    311\u001b[0m \u001b[1;33m\u001b[0m\u001b[0m\n",
      "\u001b[1;32mc:\\users\\calni\\appdata\\local\\programs\\python\\python39\\lib\\site-packages\\torch_geometric\\nn\\conv\\message_passing.py\u001b[0m in \u001b[0;36m__collect__\u001b[1;34m(self, args, edge_index, size, kwargs)\u001b[0m\n\u001b[0;32m    200\u001b[0m                 \u001b[1;32mif\u001b[0m \u001b[0misinstance\u001b[0m\u001b[1;33m(\u001b[0m\u001b[0mdata\u001b[0m\u001b[1;33m,\u001b[0m \u001b[0mTensor\u001b[0m\u001b[1;33m)\u001b[0m\u001b[1;33m:\u001b[0m\u001b[1;33m\u001b[0m\u001b[1;33m\u001b[0m\u001b[0m\n\u001b[0;32m    201\u001b[0m                     \u001b[0mself\u001b[0m\u001b[1;33m.\u001b[0m\u001b[0m__set_size__\u001b[0m\u001b[1;33m(\u001b[0m\u001b[0msize\u001b[0m\u001b[1;33m,\u001b[0m \u001b[0mdim\u001b[0m\u001b[1;33m,\u001b[0m \u001b[0mdata\u001b[0m\u001b[1;33m)\u001b[0m\u001b[1;33m\u001b[0m\u001b[1;33m\u001b[0m\u001b[0m\n\u001b[1;32m--> 202\u001b[1;33m                     \u001b[0mdata\u001b[0m \u001b[1;33m=\u001b[0m \u001b[0mself\u001b[0m\u001b[1;33m.\u001b[0m\u001b[0m__lift__\u001b[0m\u001b[1;33m(\u001b[0m\u001b[0mdata\u001b[0m\u001b[1;33m,\u001b[0m \u001b[0medge_index\u001b[0m\u001b[1;33m,\u001b[0m \u001b[0mdim\u001b[0m\u001b[1;33m)\u001b[0m\u001b[1;33m\u001b[0m\u001b[1;33m\u001b[0m\u001b[0m\n\u001b[0m\u001b[0;32m    203\u001b[0m \u001b[1;33m\u001b[0m\u001b[0m\n\u001b[0;32m    204\u001b[0m                 \u001b[0mout\u001b[0m\u001b[1;33m[\u001b[0m\u001b[0marg\u001b[0m\u001b[1;33m]\u001b[0m \u001b[1;33m=\u001b[0m \u001b[0mdata\u001b[0m\u001b[1;33m\u001b[0m\u001b[1;33m\u001b[0m\u001b[0m\n",
      "\u001b[1;32mc:\\users\\calni\\appdata\\local\\programs\\python\\python39\\lib\\site-packages\\torch_geometric\\nn\\conv\\message_passing.py\u001b[0m in \u001b[0;36m__lift__\u001b[1;34m(self, src, edge_index, dim)\u001b[0m\n\u001b[0;32m    170\u001b[0m         \u001b[1;32mif\u001b[0m \u001b[0misinstance\u001b[0m\u001b[1;33m(\u001b[0m\u001b[0medge_index\u001b[0m\u001b[1;33m,\u001b[0m \u001b[0mTensor\u001b[0m\u001b[1;33m)\u001b[0m\u001b[1;33m:\u001b[0m\u001b[1;33m\u001b[0m\u001b[1;33m\u001b[0m\u001b[0m\n\u001b[0;32m    171\u001b[0m             \u001b[0mindex\u001b[0m \u001b[1;33m=\u001b[0m \u001b[0medge_index\u001b[0m\u001b[1;33m[\u001b[0m\u001b[0mdim\u001b[0m\u001b[1;33m]\u001b[0m\u001b[1;33m\u001b[0m\u001b[1;33m\u001b[0m\u001b[0m\n\u001b[1;32m--> 172\u001b[1;33m             \u001b[1;32mreturn\u001b[0m \u001b[0msrc\u001b[0m\u001b[1;33m.\u001b[0m\u001b[0mindex_select\u001b[0m\u001b[1;33m(\u001b[0m\u001b[0mself\u001b[0m\u001b[1;33m.\u001b[0m\u001b[0mnode_dim\u001b[0m\u001b[1;33m,\u001b[0m \u001b[0mindex\u001b[0m\u001b[1;33m)\u001b[0m\u001b[1;33m\u001b[0m\u001b[1;33m\u001b[0m\u001b[0m\n\u001b[0m\u001b[0;32m    173\u001b[0m         \u001b[1;32melif\u001b[0m \u001b[0misinstance\u001b[0m\u001b[1;33m(\u001b[0m\u001b[0medge_index\u001b[0m\u001b[1;33m,\u001b[0m \u001b[0mSparseTensor\u001b[0m\u001b[1;33m)\u001b[0m\u001b[1;33m:\u001b[0m\u001b[1;33m\u001b[0m\u001b[1;33m\u001b[0m\u001b[0m\n\u001b[0;32m    174\u001b[0m             \u001b[1;32mif\u001b[0m \u001b[0mdim\u001b[0m \u001b[1;33m==\u001b[0m \u001b[1;36m1\u001b[0m\u001b[1;33m:\u001b[0m\u001b[1;33m\u001b[0m\u001b[1;33m\u001b[0m\u001b[0m\n",
      "\u001b[1;31mIndexError\u001b[0m: index out of range in self"
     ]
    }
   ],
   "source": [
    "for epoch in range(1, epochs + 1):\n",
    "    loss = train()\n",
    "    auc, ap = test(pyg_graph_3.num_val.test_pos_edge_index, pyg_graph_3.num_val.test_neg_edge_index)\n",
    "    print('Epoch: {:03d}, AUC: {:.4f}, AP: {:.4f}'.format(epoch, auc, ap))"
   ]
  },
  {
   "cell_type": "code",
   "execution_count": 70,
   "id": "a59c534d",
   "metadata": {},
   "outputs": [],
   "source": [
    "from torch_geometric.nn import VGAE"
   ]
  },
  {
   "cell_type": "code",
   "execution_count": 71,
   "id": "049223e3",
   "metadata": {},
   "outputs": [],
   "source": [
    "class VariationalGCNEncoder(torch.nn.Module):\n",
    "    def __init__(self, in_channels, out_channels):\n",
    "        super(VariationalGCNEncoder, self).__init__()\n",
    "        self.conv1 = GCNConv(in_channels, 2 * out_channels, cached=True) # cached only for transductive learning\n",
    "        self.conv_mu = GCNConv(2 * out_channels, out_channels, cached=True)\n",
    "        self.conv_logstd = GCNConv(2 * out_channels, out_channels, cached=True)\n",
    "\n",
    "    def forward(self, x, edge_index):\n",
    "        x = self.conv1(x, edge_index).relu()\n",
    "        return self.conv_mu(x, edge_index), self.conv_logstd(x, edge_index)\n",
    "    #GCNconv restituisce una matrice (nodi,embedding) , un vettore per ogni nodo\n",
    "    #quindi VGAE deve fare una sorta di pooling per avere una mu e una log sigma \n",
    "    #per ogni dimension cioè un vettore (1,embedding)"
   ]
  },
  {
   "cell_type": "code",
   "execution_count": 77,
   "id": "194ada7a",
   "metadata": {},
   "outputs": [],
   "source": [
    "out_channels = 20   #embedding \n",
    "num_features = pyg_graph_3.num_val.num_features\n",
    "epochs = 100\n",
    "\n",
    "\n",
    "model = VGAE(VariationalGCNEncoder(num_features, out_channels)) \n",
    "\n",
    "device = torch.device('cuda' if torch.cuda.is_available() else 'cpu')\n",
    "model = model.to(device)\n",
    "x = pyg_graph_3.num_val.x.to(device)\n",
    "train_pos_edge_index = pyg_graph_3.num_val.train_pos_edge_index.to(device)\n",
    "optimizer = torch.optim.Adam(model.parameters(), lr=0.01)"
   ]
  },
  {
   "cell_type": "code",
   "execution_count": 78,
   "id": "f670dfba",
   "metadata": {},
   "outputs": [],
   "source": [
    "def train():\n",
    "    model.train()\n",
    "    optimizer.zero_grad()\n",
    "    z = model.encode(x, train_pos_edge_index)\n",
    "    loss = model.recon_loss(z, train_pos_edge_index)\n",
    "    \n",
    "    loss = loss + (1 / pyg_graph_3.num_val.num_nodes) * model.kl_loss() \n",
    "    #se non viene passato nessun parametro in kl_loss allota vengono prese \n",
    "    # the last computations of mu e logsigma \n",
    "    # \n",
    "    loss.backward()\n",
    "    optimizer.step()\n",
    "    return float(loss)\n",
    "\n",
    "\n",
    "def test(pos_edge_index, neg_edge_index):\n",
    "    model.eval()\n",
    "    with torch.no_grad():\n",
    "        z = model.encode(x, train_pos_edge_index)\n",
    "    return model.test(z, pos_edge_index, neg_edge_index)"
   ]
  },
  {
   "cell_type": "code",
   "execution_count": 79,
   "id": "09b5f398",
   "metadata": {},
   "outputs": [
    {
     "name": "stdout",
     "output_type": "stream",
     "text": [
      "Epoch: 001, AUC: 0.8806, AP: 0.8706\n",
      "Epoch: 002, AUC: 0.8796, AP: 0.8702\n",
      "Epoch: 003, AUC: 0.8815, AP: 0.8731\n",
      "Epoch: 004, AUC: 0.8849, AP: 0.8777\n",
      "Epoch: 005, AUC: 0.8886, AP: 0.8823\n",
      "Epoch: 006, AUC: 0.8913, AP: 0.8856\n",
      "Epoch: 007, AUC: 0.8937, AP: 0.8883\n",
      "Epoch: 008, AUC: 0.8962, AP: 0.8910\n",
      "Epoch: 009, AUC: 0.8992, AP: 0.8942\n",
      "Epoch: 010, AUC: 0.9028, AP: 0.8979\n",
      "Epoch: 011, AUC: 0.9063, AP: 0.9015\n",
      "Epoch: 012, AUC: 0.9079, AP: 0.9034\n",
      "Epoch: 013, AUC: 0.9067, AP: 0.9022\n",
      "Epoch: 014, AUC: 0.9040, AP: 0.8996\n",
      "Epoch: 015, AUC: 0.9022, AP: 0.8980\n",
      "Epoch: 016, AUC: 0.9018, AP: 0.8978\n",
      "Epoch: 017, AUC: 0.9021, AP: 0.8986\n",
      "Epoch: 018, AUC: 0.9027, AP: 0.8999\n",
      "Epoch: 019, AUC: 0.9030, AP: 0.9006\n",
      "Epoch: 020, AUC: 0.9029, AP: 0.9007\n",
      "Epoch: 021, AUC: 0.9026, AP: 0.9007\n",
      "Epoch: 022, AUC: 0.9022, AP: 0.9007\n",
      "Epoch: 023, AUC: 0.9018, AP: 0.9008\n",
      "Epoch: 024, AUC: 0.9017, AP: 0.9013\n",
      "Epoch: 025, AUC: 0.9022, AP: 0.9020\n",
      "Epoch: 026, AUC: 0.9027, AP: 0.9029\n",
      "Epoch: 027, AUC: 0.9027, AP: 0.9034\n",
      "Epoch: 028, AUC: 0.9016, AP: 0.9033\n",
      "Epoch: 029, AUC: 0.9001, AP: 0.9028\n",
      "Epoch: 030, AUC: 0.8989, AP: 0.9022\n",
      "Epoch: 031, AUC: 0.8982, AP: 0.9020\n",
      "Epoch: 032, AUC: 0.8975, AP: 0.9022\n",
      "Epoch: 033, AUC: 0.8970, AP: 0.9027\n",
      "Epoch: 034, AUC: 0.8975, AP: 0.9035\n",
      "Epoch: 035, AUC: 0.8983, AP: 0.9043\n",
      "Epoch: 036, AUC: 0.8984, AP: 0.9048\n",
      "Epoch: 037, AUC: 0.8975, AP: 0.9048\n",
      "Epoch: 038, AUC: 0.8964, AP: 0.9046\n",
      "Epoch: 039, AUC: 0.8957, AP: 0.9044\n",
      "Epoch: 040, AUC: 0.8947, AP: 0.9040\n",
      "Epoch: 041, AUC: 0.8931, AP: 0.9035\n",
      "Epoch: 042, AUC: 0.8919, AP: 0.9029\n",
      "Epoch: 043, AUC: 0.8914, AP: 0.9027\n",
      "Epoch: 044, AUC: 0.8909, AP: 0.9024\n",
      "Epoch: 045, AUC: 0.8892, AP: 0.9015\n",
      "Epoch: 046, AUC: 0.8886, AP: 0.9011\n",
      "Epoch: 047, AUC: 0.8901, AP: 0.9021\n",
      "Epoch: 048, AUC: 0.8915, AP: 0.9031\n",
      "Epoch: 049, AUC: 0.8899, AP: 0.9022\n",
      "Epoch: 050, AUC: 0.8886, AP: 0.9016\n",
      "Epoch: 051, AUC: 0.8903, AP: 0.9029\n",
      "Epoch: 052, AUC: 0.8913, AP: 0.9036\n",
      "Epoch: 053, AUC: 0.8906, AP: 0.9033\n",
      "Epoch: 054, AUC: 0.8899, AP: 0.9031\n",
      "Epoch: 055, AUC: 0.8916, AP: 0.9044\n",
      "Epoch: 056, AUC: 0.8934, AP: 0.9056\n",
      "Epoch: 057, AUC: 0.8934, AP: 0.9056\n",
      "Epoch: 058, AUC: 0.8938, AP: 0.9060\n",
      "Epoch: 059, AUC: 0.8958, AP: 0.9075\n",
      "Epoch: 060, AUC: 0.8965, AP: 0.9081\n",
      "Epoch: 061, AUC: 0.8952, AP: 0.9073\n",
      "Epoch: 062, AUC: 0.8957, AP: 0.9078\n",
      "Epoch: 063, AUC: 0.8975, AP: 0.9091\n",
      "Epoch: 064, AUC: 0.8971, AP: 0.9090\n",
      "Epoch: 065, AUC: 0.8961, AP: 0.9084\n",
      "Epoch: 066, AUC: 0.8977, AP: 0.9095\n",
      "Epoch: 067, AUC: 0.8988, AP: 0.9103\n",
      "Epoch: 068, AUC: 0.8978, AP: 0.9098\n",
      "Epoch: 069, AUC: 0.8979, AP: 0.9099\n",
      "Epoch: 070, AUC: 0.8995, AP: 0.9109\n",
      "Epoch: 071, AUC: 0.8988, AP: 0.9106\n",
      "Epoch: 072, AUC: 0.8981, AP: 0.9102\n",
      "Epoch: 073, AUC: 0.8995, AP: 0.9112\n",
      "Epoch: 074, AUC: 0.8997, AP: 0.9114\n",
      "Epoch: 075, AUC: 0.8982, AP: 0.9105\n",
      "Epoch: 076, AUC: 0.8993, AP: 0.9112\n",
      "Epoch: 077, AUC: 0.9011, AP: 0.9124\n",
      "Epoch: 078, AUC: 0.9004, AP: 0.9120\n",
      "Epoch: 079, AUC: 0.9006, AP: 0.9122\n",
      "Epoch: 080, AUC: 0.9025, AP: 0.9134\n",
      "Epoch: 081, AUC: 0.9020, AP: 0.9132\n",
      "Epoch: 082, AUC: 0.9019, AP: 0.9132\n",
      "Epoch: 083, AUC: 0.9033, AP: 0.9140\n",
      "Epoch: 084, AUC: 0.9031, AP: 0.9140\n",
      "Epoch: 085, AUC: 0.9031, AP: 0.9141\n",
      "Epoch: 086, AUC: 0.9043, AP: 0.9148\n",
      "Epoch: 087, AUC: 0.9041, AP: 0.9147\n",
      "Epoch: 088, AUC: 0.9043, AP: 0.9149\n",
      "Epoch: 089, AUC: 0.9052, AP: 0.9155\n",
      "Epoch: 090, AUC: 0.9050, AP: 0.9153\n",
      "Epoch: 091, AUC: 0.9049, AP: 0.9153\n",
      "Epoch: 092, AUC: 0.9054, AP: 0.9156\n",
      "Epoch: 093, AUC: 0.9051, AP: 0.9154\n",
      "Epoch: 094, AUC: 0.9060, AP: 0.9160\n",
      "Epoch: 095, AUC: 0.9053, AP: 0.9156\n",
      "Epoch: 096, AUC: 0.9062, AP: 0.9162\n",
      "Epoch: 097, AUC: 0.9059, AP: 0.9160\n",
      "Epoch: 098, AUC: 0.9065, AP: 0.9164\n",
      "Epoch: 099, AUC: 0.9065, AP: 0.9164\n",
      "Epoch: 100, AUC: 0.9063, AP: 0.9163\n"
     ]
    }
   ],
   "source": [
    "writer = SummaryWriter('runs/VGAE_experiment_'+'20d_100_epochs')\n",
    "\n",
    "for epoch in range(1, epochs + 1):\n",
    "    loss = train()\n",
    "    auc, ap = test(pyg_graph_3.num_val.test_pos_edge_index, pyg_graph_3.num_val.test_neg_edge_index)\n",
    "    print('Epoch: {:03d}, AUC: {:.4f}, AP: {:.4f}'.format(epoch, auc, ap))\n",
    "    \n",
    "    \n",
    "    writer.add_scalar('auc train',auc,epoch) # new line\n",
    "    writer.add_scalar('ap train',ap,epoch)   # new line"
   ]
  },
  {
   "cell_type": "markdown",
   "id": "fc0ca03f",
   "metadata": {},
   "source": [
    "## ARGVAE"
   ]
  },
  {
   "cell_type": "code",
   "execution_count": 18,
   "id": "97b0f44f",
   "metadata": {},
   "outputs": [],
   "source": [
    "class VEncoder(torch.nn.Module):\n",
    "    def __init__(self, in_channels, out_channels):\n",
    "        super(VEncoder, self).__init__()\n",
    "        self.conv1 = GCNConv(in_channels, 2 * out_channels, cached=True)\n",
    "        self.conv_mu = GCNConv(2 * out_channels, out_channels, cached=True)\n",
    "        self.conv_logstd = GCNConv(2 * out_channels, out_channels, cached=True)\n",
    "\n",
    "    def forward(self, x, edge_index):\n",
    "        x = F.relu(self.conv1(x, edge_index))\n",
    "        return self.conv_mu(x, edge_index), self.conv_logstd(x, edge_index)"
   ]
  },
  {
   "cell_type": "code",
   "execution_count": 19,
   "id": "8936d89f",
   "metadata": {},
   "outputs": [],
   "source": [
    "class Discriminator(torch.nn.Module):\n",
    "    def __init__(self, in_channels, hidden_channels, out_channels):\n",
    "        super(Discriminator, self).__init__()\n",
    "        self.lin1 = torch.nn.Linear(in_channels, hidden_channels)\n",
    "        self.lin2 = torch.nn.Linear(hidden_channels, hidden_channels)\n",
    "        self.lin3 = torch.nn.Linear(hidden_channels, out_channels)\n",
    "\n",
    "    def forward(self, x):\n",
    "        x = F.relu(self.lin1(x))\n",
    "        x = F.relu(self.lin2(x))\n",
    "        x = self.lin3(x)\n",
    "        return x"
   ]
  },
  {
   "cell_type": "code",
   "execution_count": 36,
   "id": "a14d2b5f",
   "metadata": {},
   "outputs": [],
   "source": [
    "def train():\n",
    "    model.train()\n",
    "    encoder_optimizer.zero_grad()\n",
    "    \n",
    "    z = model.encode(pyg_graph_3.num_val.x, pyg_graph_3.num_val.train_pos_edge_index)\n",
    "\n",
    "    for i in range(5):\n",
    "        idx = range(pyg_graph_3.num_val.num_nodes)  \n",
    "        discriminator.train()\n",
    "        discriminator_optimizer.zero_grad()\n",
    "        discriminator_loss = model.discriminator_loss(z[idx]) # Comment\n",
    "        discriminator_loss.backward(retain_graph=True)\n",
    "        discriminator_optimizer.step()\n",
    " \n",
    "    loss = 0\n",
    "    loss = loss + model.reg_loss(z)  # Comment\n",
    "    \n",
    "    loss = loss + model.recon_loss(z, pyg_graph_3.num_val.train_pos_edge_index)\n",
    "    loss = loss + (1 / pyg_graph_3.num_val.num_nodes) * model.kl_loss()\n",
    "    loss.backward()\n",
    "\n",
    "    encoder_optimizer.step()\n",
    "    \n",
    "    return loss"
   ]
  },
  {
   "cell_type": "code",
   "execution_count": 29,
   "id": "11ee6a84",
   "metadata": {},
   "outputs": [],
   "source": [
    "def test(pos_edge_index, neg_edge_index):\n",
    "    model.eval()\n",
    "    with torch.no_grad():\n",
    "        z = model.encode(x, train_pos_edge_index)\n",
    "    return model.test(z, pos_edge_index, neg_edge_index)"
   ]
  },
  {
   "cell_type": "code",
   "execution_count": 52,
   "id": "cb800c31",
   "metadata": {},
   "outputs": [],
   "source": [
    "latent_size = 20\n",
    "encoder = VEncoder(pyg_graph_3.num_val.num_features, out_channels=latent_size)\n",
    "\n",
    "discriminator = Discriminator(in_channels=latent_size, hidden_channels=64, \n",
    "                              out_channels=1) # Comment"
   ]
  },
  {
   "cell_type": "code",
   "execution_count": 53,
   "id": "67455617",
   "metadata": {},
   "outputs": [],
   "source": [
    "model = ARGVA(encoder, discriminator)\n",
    "\n",
    "device = torch.device('cuda' if torch.cuda.is_available() else 'cpu')\n",
    "model = model.to(device)\n",
    "x = pyg_graph_3.num_val.x.to(device)\n",
    "train_pos_edge_index = pyg_graph_3.num_val.train_pos_edge_index.to(device)"
   ]
  },
  {
   "cell_type": "code",
   "execution_count": 54,
   "id": "b6afcdbf",
   "metadata": {},
   "outputs": [],
   "source": [
    "discriminator_optimizer = torch.optim.Adam(discriminator.parameters(), lr=0.001)\n",
    "encoder_optimizer = torch.optim.Adam(encoder.parameters(), lr=0.005)"
   ]
  },
  {
   "cell_type": "code",
   "execution_count": 55,
   "id": "b216d7f5",
   "metadata": {},
   "outputs": [],
   "source": [
    "epochs=100"
   ]
  },
  {
   "cell_type": "code",
   "execution_count": 56,
   "id": "00819f24",
   "metadata": {},
   "outputs": [
    {
     "name": "stdout",
     "output_type": "stream",
     "text": [
      "Epoch: 001, AUC: 0.9046, AP: 0.9009\n",
      "Epoch: 002, AUC: 0.9043, AP: 0.9005\n",
      "Epoch: 003, AUC: 0.9043, AP: 0.9006\n",
      "Epoch: 004, AUC: 0.9048, AP: 0.9012\n",
      "Epoch: 005, AUC: 0.9058, AP: 0.9023\n",
      "Epoch: 006, AUC: 0.9070, AP: 0.9037\n",
      "Epoch: 007, AUC: 0.9085, AP: 0.9053\n",
      "Epoch: 008, AUC: 0.9103, AP: 0.9072\n",
      "Epoch: 009, AUC: 0.9123, AP: 0.9093\n",
      "Epoch: 010, AUC: 0.9145, AP: 0.9116\n",
      "Epoch: 011, AUC: 0.9166, AP: 0.9138\n",
      "Epoch: 012, AUC: 0.9181, AP: 0.9155\n",
      "Epoch: 013, AUC: 0.9185, AP: 0.9160\n",
      "Epoch: 014, AUC: 0.9174, AP: 0.9148\n",
      "Epoch: 015, AUC: 0.9149, AP: 0.9119\n",
      "Epoch: 016, AUC: 0.9110, AP: 0.9076\n",
      "Epoch: 017, AUC: 0.9069, AP: 0.9030\n",
      "Epoch: 018, AUC: 0.9041, AP: 0.9000\n",
      "Epoch: 019, AUC: 0.9046, AP: 0.9004\n",
      "Epoch: 020, AUC: 0.9077, AP: 0.9037\n",
      "Epoch: 021, AUC: 0.9115, AP: 0.9078\n",
      "Epoch: 022, AUC: 0.9145, AP: 0.9112\n",
      "Epoch: 023, AUC: 0.9164, AP: 0.9134\n",
      "Epoch: 024, AUC: 0.9176, AP: 0.9147\n",
      "Epoch: 025, AUC: 0.9182, AP: 0.9154\n",
      "Epoch: 026, AUC: 0.9185, AP: 0.9157\n",
      "Epoch: 027, AUC: 0.9186, AP: 0.9158\n",
      "Epoch: 028, AUC: 0.9184, AP: 0.9155\n",
      "Epoch: 029, AUC: 0.9179, AP: 0.9150\n",
      "Epoch: 030, AUC: 0.9171, AP: 0.9142\n",
      "Epoch: 031, AUC: 0.9161, AP: 0.9129\n",
      "Epoch: 032, AUC: 0.9148, AP: 0.9115\n",
      "Epoch: 033, AUC: 0.9133, AP: 0.9098\n",
      "Epoch: 034, AUC: 0.9115, AP: 0.9077\n",
      "Epoch: 035, AUC: 0.9096, AP: 0.9056\n",
      "Epoch: 036, AUC: 0.9075, AP: 0.9034\n",
      "Epoch: 037, AUC: 0.9052, AP: 0.9012\n",
      "Epoch: 038, AUC: 0.9028, AP: 0.8991\n",
      "Epoch: 039, AUC: 0.9004, AP: 0.8974\n",
      "Epoch: 040, AUC: 0.8979, AP: 0.8959\n",
      "Epoch: 041, AUC: 0.8955, AP: 0.8946\n",
      "Epoch: 042, AUC: 0.8929, AP: 0.8935\n",
      "Epoch: 043, AUC: 0.8903, AP: 0.8923\n",
      "Epoch: 044, AUC: 0.8880, AP: 0.8910\n",
      "Epoch: 045, AUC: 0.8858, AP: 0.8895\n",
      "Epoch: 046, AUC: 0.8836, AP: 0.8879\n",
      "Epoch: 047, AUC: 0.8817, AP: 0.8862\n",
      "Epoch: 048, AUC: 0.8802, AP: 0.8846\n",
      "Epoch: 049, AUC: 0.8789, AP: 0.8833\n",
      "Epoch: 050, AUC: 0.8780, AP: 0.8824\n",
      "Epoch: 051, AUC: 0.8775, AP: 0.8818\n",
      "Epoch: 052, AUC: 0.8776, AP: 0.8817\n",
      "Epoch: 053, AUC: 0.8781, AP: 0.8822\n",
      "Epoch: 054, AUC: 0.8792, AP: 0.8831\n",
      "Epoch: 055, AUC: 0.8809, AP: 0.8845\n",
      "Epoch: 056, AUC: 0.8831, AP: 0.8864\n",
      "Epoch: 057, AUC: 0.8857, AP: 0.8887\n",
      "Epoch: 058, AUC: 0.8884, AP: 0.8913\n",
      "Epoch: 059, AUC: 0.8910, AP: 0.8939\n",
      "Epoch: 060, AUC: 0.8932, AP: 0.8963\n",
      "Epoch: 061, AUC: 0.8948, AP: 0.8981\n",
      "Epoch: 062, AUC: 0.8954, AP: 0.8990\n",
      "Epoch: 063, AUC: 0.8951, AP: 0.8990\n",
      "Epoch: 064, AUC: 0.8940, AP: 0.8980\n",
      "Epoch: 065, AUC: 0.8922, AP: 0.8962\n",
      "Epoch: 066, AUC: 0.8899, AP: 0.8940\n",
      "Epoch: 067, AUC: 0.8874, AP: 0.8917\n",
      "Epoch: 068, AUC: 0.8850, AP: 0.8896\n",
      "Epoch: 069, AUC: 0.8826, AP: 0.8880\n",
      "Epoch: 070, AUC: 0.8806, AP: 0.8868\n",
      "Epoch: 071, AUC: 0.8791, AP: 0.8862\n",
      "Epoch: 072, AUC: 0.8781, AP: 0.8860\n",
      "Epoch: 073, AUC: 0.8775, AP: 0.8862\n",
      "Epoch: 074, AUC: 0.8774, AP: 0.8867\n",
      "Epoch: 075, AUC: 0.8778, AP: 0.8875\n",
      "Epoch: 076, AUC: 0.8786, AP: 0.8885\n",
      "Epoch: 077, AUC: 0.8796, AP: 0.8896\n",
      "Epoch: 078, AUC: 0.8808, AP: 0.8906\n",
      "Epoch: 079, AUC: 0.8821, AP: 0.8918\n",
      "Epoch: 080, AUC: 0.8836, AP: 0.8930\n",
      "Epoch: 081, AUC: 0.8851, AP: 0.8941\n",
      "Epoch: 082, AUC: 0.8865, AP: 0.8951\n",
      "Epoch: 083, AUC: 0.8878, AP: 0.8961\n",
      "Epoch: 084, AUC: 0.8890, AP: 0.8970\n",
      "Epoch: 085, AUC: 0.8899, AP: 0.8977\n",
      "Epoch: 086, AUC: 0.8906, AP: 0.8982\n",
      "Epoch: 087, AUC: 0.8910, AP: 0.8986\n",
      "Epoch: 088, AUC: 0.8913, AP: 0.8988\n",
      "Epoch: 089, AUC: 0.8911, AP: 0.8988\n",
      "Epoch: 090, AUC: 0.8907, AP: 0.8987\n",
      "Epoch: 091, AUC: 0.8902, AP: 0.8985\n",
      "Epoch: 092, AUC: 0.8896, AP: 0.8982\n",
      "Epoch: 093, AUC: 0.8889, AP: 0.8979\n",
      "Epoch: 094, AUC: 0.8879, AP: 0.8974\n",
      "Epoch: 095, AUC: 0.8875, AP: 0.8972\n",
      "Epoch: 096, AUC: 0.8876, AP: 0.8974\n",
      "Epoch: 097, AUC: 0.8882, AP: 0.8979\n",
      "Epoch: 098, AUC: 0.8885, AP: 0.8983\n",
      "Epoch: 099, AUC: 0.8884, AP: 0.8984\n",
      "Epoch: 100, AUC: 0.8878, AP: 0.8981\n"
     ]
    }
   ],
   "source": [
    "writer = SummaryWriter('runs/ARGVA_experiment_'+'20d_100_epochs')\n",
    "\n",
    "for epoch in range(1, epochs + 1):\n",
    "    loss = train()\n",
    "    auc, ap = test(pyg_graph_3.num_val.test_pos_edge_index, pyg_graph_3.num_val.test_neg_edge_index)\n",
    "    print('Epoch: {:03d}, AUC: {:.4f}, AP: {:.4f}'.format(epoch, auc, ap))\n",
    "    \n",
    "    \n",
    "    writer.add_scalar('auc train',auc,epoch) # new line\n",
    "    writer.add_scalar('ap train',ap,epoch)   # new line"
   ]
  },
  {
   "cell_type": "code",
   "execution_count": null,
   "id": "ecafffa4",
   "metadata": {},
   "outputs": [],
   "source": []
  }
 ],
 "metadata": {
  "kernelspec": {
   "display_name": "Python 3 (ipykernel)",
   "language": "python",
   "name": "python3"
  },
  "language_info": {
   "codemirror_mode": {
    "name": "ipython",
    "version": 3
   },
   "file_extension": ".py",
   "mimetype": "text/x-python",
   "name": "python",
   "nbconvert_exporter": "python",
   "pygments_lexer": "ipython3",
   "version": "3.9.6"
  }
 },
 "nbformat": 4,
 "nbformat_minor": 5
}
