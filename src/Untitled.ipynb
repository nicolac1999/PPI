{
 "cells": [
  {
   "cell_type": "code",
   "execution_count": 16,
   "id": "d6b5f6d4-1f51-48ed-b44d-207e9a095f32",
   "metadata": {},
   "outputs": [],
   "source": [
    "from torch_geometric.data import Data\n",
    "import torch\n",
    "import random"
   ]
  },
  {
   "cell_type": "code",
   "execution_count": 2,
   "id": "45b35530-b50b-47be-b69b-ee5060dc098b",
   "metadata": {},
   "outputs": [
    {
     "data": {
      "text/plain": [
       "<torch._C.Generator at 0x1819ea8bf50>"
      ]
     },
     "execution_count": 2,
     "metadata": {},
     "output_type": "execute_result"
    }
   ],
   "source": [
    "torch.manual_seed(0)"
   ]
  },
  {
   "cell_type": "code",
   "execution_count": 33,
   "id": "6605203c-4ddf-403c-a364-b61bace36c61",
   "metadata": {},
   "outputs": [],
   "source": [
    "x=torch.tensor([[1,2,3,4,5],\n",
    "               [2,3,4,5,6],\n",
    "               [3,4,5,6,7],\n",
    "               [4,5,6,7,8],\n",
    "               [6,7,8,9,0],\n",
    "               [1,1,1,1,1]])"
   ]
  },
  {
   "cell_type": "code",
   "execution_count": 34,
   "id": "71c854e3-0d1f-47e9-950a-5d3af40c9455",
   "metadata": {},
   "outputs": [],
   "source": [
    "edge=torch.tensor([[1,2],\n",
    "                  [2,3],\n",
    "                  [0,1],\n",
    "                  [4,5],\n",
    "                  [5,5],\n",
    "                  [3,4],\n",
    "                  [1,5],\n",
    "                  [1,4]])"
   ]
  },
  {
   "cell_type": "code",
   "execution_count": 35,
   "id": "69422e69-3d37-43f7-b3ae-4e7330cbace0",
   "metadata": {},
   "outputs": [],
   "source": [
    "edge_index=edge.reshape((2,8))"
   ]
  },
  {
   "cell_type": "code",
   "execution_count": 36,
   "id": "572181b0-1116-471e-bc4a-3f1d1bbbcbf4",
   "metadata": {},
   "outputs": [],
   "source": [
    "data=Data(x=x,edge_index=edge_index)"
   ]
  },
  {
   "cell_type": "code",
   "execution_count": 37,
   "id": "7983912f-03f5-42af-b6b3-905ddba4ceb5",
   "metadata": {},
   "outputs": [],
   "source": [
    "# train, test, val masks for each node\n",
    "train_mask = torch.tensor([True] * round(edge_index.unique().size(0) * 0.8) + \n",
    "                          [False]* (edge_index.unique().size(0) - round(edge_index.unique().size(0) * 0.8)))\n",
    "test_mask = torch.tensor([False] * round(edge_index.unique().size(0) * 0.8) + \n",
    "                         [True]* (round(edge_index.unique().size(0) * 0.1)) + \n",
    "                         [False]* (edge_index.unique().size(0) - round(edge_index.unique().size(0) * 0.8) \n",
    "                                   - round(edge_index.unique().size(0) * 0.1)))\n",
    "val_mask = torch.tensor([False] * round(edge_index.unique().size(0) * 0.8) + \n",
    "                        [False]* (round(edge_index.unique().size(0) * 0.1)) + \n",
    "                        [True]* (edge_index.unique().size(0) - round(edge_index.unique().size(0) * 0.8) \n",
    "                                 - round(edge_index.unique().size(0) * 0.1)))\n",
    "\n",
    "new_data = Data(edge_index=edge_index, \n",
    "                x=x, \n",
    "                train_mask = train_mask, \n",
    "                val_mask=val_mask, \n",
    "                test_mask=test_mask)"
   ]
  },
  {
   "cell_type": "code",
   "execution_count": 43,
   "id": "499a5db0-6bb9-4f20-8daa-0430f13658fa",
   "metadata": {},
   "outputs": [
    {
     "data": {
      "text/plain": [
       "Data(x=[6, 5], train_mask=[6], val_mask=[6], test_mask=[6], val_pos_edge_index=[2, 0], test_pos_edge_index=[2, 0], train_pos_edge_index=[2, 10], train_neg_adj_mask=[6, 6], val_neg_edge_index=[2, 0], test_neg_edge_index=[2, 0])"
      ]
     },
     "execution_count": 43,
     "metadata": {},
     "output_type": "execute_result"
    }
   ],
   "source": [
    "new_data"
   ]
  },
  {
   "cell_type": "code",
   "execution_count": 10,
   "id": "5f4882d2-be28-44f6-b0c2-8ebb907f20c0",
   "metadata": {},
   "outputs": [
    {
     "data": {
      "text/plain": [
       "tensor([ True,  True,  True,  True,  True, False])"
      ]
     },
     "execution_count": 10,
     "metadata": {},
     "output_type": "execute_result"
    }
   ],
   "source": [
    "new_data.train_mask"
   ]
  },
  {
   "cell_type": "code",
   "execution_count": 11,
   "id": "4b60e10b-3477-4b28-9faa-90d2be6d36c0",
   "metadata": {},
   "outputs": [
    {
     "data": {
      "text/plain": [
       "tensor([False, False, False, False, False, False])"
      ]
     },
     "execution_count": 11,
     "metadata": {},
     "output_type": "execute_result"
    }
   ],
   "source": [
    "new_data.val_mask"
   ]
  },
  {
   "cell_type": "code",
   "execution_count": 12,
   "id": "acac64fc-af8a-49f6-b8ab-26506587ade2",
   "metadata": {},
   "outputs": [
    {
     "data": {
      "text/plain": [
       "tensor([False, False, False, False, False,  True])"
      ]
     },
     "execution_count": 12,
     "metadata": {},
     "output_type": "execute_result"
    }
   ],
   "source": [
    "new_data.test_mask"
   ]
  },
  {
   "cell_type": "code",
   "execution_count": 24,
   "id": "b98d46f6-11de-4bc7-9565-a6d89f896c6c",
   "metadata": {},
   "outputs": [],
   "source": [
    "def train_test_split_edges(data, val_ratio=0.05, test_ratio=0.1, undirected=True):\n",
    "    r\"\"\"Splits the edges of a :obj:`torch_geometric.data.Data` object\n",
    "    into positive and negative train/val/test edges, and adds attributes of\n",
    "    `train_pos_edge_index`, `train_neg_adj_mask`, `val_pos_edge_index`,\n",
    "    `val_neg_edge_index`, `test_pos_edge_index`, and `test_neg_edge_index`\n",
    "    to :attr:`data`.\n",
    "    Args:\n",
    "        data (Data): The data object.\n",
    "        val_ratio (float, optional): The ratio of positive validation\n",
    "            edges. (default: :obj:`0.05`)\n",
    "        test_ratio (float, optional): The ratio of positive test\n",
    "            edges. (default: :obj:`0.1`)\n",
    "    :rtype: :class:`torch_geometric.data.Data`\n",
    "    \"\"\"\n",
    "\n",
    "    assert 'batch' not in data  # No batch-mode.\n",
    "\n",
    "    random.seed(77)\n",
    "    torch.manual_seed(77)\n",
    "\n",
    "    num_nodes = data.num_nodes\n",
    "    row, col = data.edge_index\n",
    "    data.edge_index = None\n",
    "\n",
    "    # Return upper triangular portion.\n",
    "    mask = row < col\n",
    "    row, col = row[mask], col[mask]\n",
    "\n",
    "    n_v = int(math.floor(val_ratio * row.size(0)))\n",
    "    n_t = int(math.floor(test_ratio * row.size(0)))\n",
    "\n",
    "    # Positive edges.\n",
    "    perm = torch.randperm(row.size(0))\n",
    "    row, col = row[perm], col[perm]\n",
    "\n",
    "    r, c = row[:n_v], col[:n_v]\n",
    "    data.val_pos_edge_index = torch.stack([r, c], dim=0)\n",
    "    r, c = row[n_v:n_v + n_t], col[n_v:n_v + n_t]\n",
    "    data.test_pos_edge_index = torch.stack([r, c], dim=0)\n",
    "\n",
    "    r, c = row[n_v + n_t:], col[n_v + n_t:]\n",
    "    data.train_pos_edge_index = torch.stack([r, c], dim=0)\n",
    "    if undirected:\n",
    "        data.train_pos_edge_index = to_undirected(data.train_pos_edge_index)\n",
    "\n",
    "    # Negative edges.\n",
    "    neg_adj_mask = torch.ones(num_nodes, num_nodes, dtype=torch.uint8)\n",
    "    neg_adj_mask = neg_adj_mask.triu(diagonal=1).to(torch.bool)\n",
    "    neg_adj_mask[row, col] = 0\n",
    "\n",
    "    neg_row, neg_col = neg_adj_mask.nonzero(as_tuple=False).t()\n",
    "    perm = torch.randperm(neg_row.size(0))[:n_v + n_t]\n",
    "    neg_row, neg_col = neg_row[perm], neg_col[perm]\n",
    "\n",
    "    neg_adj_mask[neg_row, neg_col] = 0\n",
    "    data.train_neg_adj_mask = neg_adj_mask\n",
    "\n",
    "    row, col = neg_row[:n_v], neg_col[:n_v]\n",
    "    data.val_neg_edge_index = torch.stack([row, col], dim=0)\n",
    "\n",
    "    row, col = neg_row[n_v:n_v + n_t], neg_col[n_v:n_v + n_t]\n",
    "    data.test_neg_edge_index = torch.stack([row, col], dim=0)\n",
    "\n",
    "    return data"
   ]
  },
  {
   "cell_type": "code",
   "execution_count": 39,
   "id": "eaa5114e-b9b2-40c0-9959-f58def9b34cb",
   "metadata": {},
   "outputs": [],
   "source": [
    "a=train_test_split_edges(new_data)"
   ]
  },
  {
   "cell_type": "code",
   "execution_count": 23,
   "id": "29c42c3e-4bd9-4b15-bd68-8f0d2764df41",
   "metadata": {},
   "outputs": [],
   "source": [
    "from torch_geometric.utils import to_undirected"
   ]
  },
  {
   "cell_type": "code",
   "execution_count": 42,
   "id": "8dcab74d-bcf9-4d31-9efd-06afe70a8a0d",
   "metadata": {},
   "outputs": [],
   "source": [
    "new_data.edge_index"
   ]
  },
  {
   "cell_type": "code",
   "execution_count": 44,
   "id": "0d64bb89-c7b7-4993-903f-67165ec527a7",
   "metadata": {},
   "outputs": [
    {
     "data": {
      "text/plain": [
       "Data(x=[6, 5], train_mask=[6], val_mask=[6], test_mask=[6], val_pos_edge_index=[2, 0], test_pos_edge_index=[2, 0], train_pos_edge_index=[2, 10], train_neg_adj_mask=[6, 6], val_neg_edge_index=[2, 0], test_neg_edge_index=[2, 0])"
      ]
     },
     "execution_count": 44,
     "metadata": {},
     "output_type": "execute_result"
    }
   ],
   "source": [
    "a"
   ]
  },
  {
   "cell_type": "code",
   "execution_count": 45,
   "id": "75405068-f4db-42e4-83c9-cf725d436e1a",
   "metadata": {},
   "outputs": [
    {
     "data": {
      "text/plain": [
       "tensor([[0, 1, 1, 2, 2, 3, 3, 4, 5, 5],\n",
       "        [1, 0, 5, 3, 5, 2, 4, 3, 1, 2]])"
      ]
     },
     "execution_count": 45,
     "metadata": {},
     "output_type": "execute_result"
    }
   ],
   "source": [
    "a.train_pos_edge_index"
   ]
  },
  {
   "cell_type": "code",
   "execution_count": 49,
   "id": "298501c4-3d71-4a8f-a68e-89a264a56375",
   "metadata": {},
   "outputs": [
    {
     "data": {
      "text/plain": [
       "tensor([[1, 2, 2, 3, 0, 1, 4, 5],\n",
       "        [5, 5, 3, 4, 1, 5, 1, 4]])"
      ]
     },
     "execution_count": 49,
     "metadata": {},
     "output_type": "execute_result"
    }
   ],
   "source": [
    "edge.reshape((2,8))"
   ]
  },
  {
   "cell_type": "code",
   "execution_count": 50,
   "id": "b27a62fe-770d-4fe0-bd13-e2bdd5fafe52",
   "metadata": {},
   "outputs": [
    {
     "data": {
      "text/plain": [
       "tensor([[False, False,  True,  True,  True,  True],\n",
       "        [False, False,  True,  True,  True, False],\n",
       "        [False, False, False, False,  True, False],\n",
       "        [False, False, False, False, False,  True],\n",
       "        [False, False, False, False, False,  True],\n",
       "        [False, False, False, False, False, False]])"
      ]
     },
     "execution_count": 50,
     "metadata": {},
     "output_type": "execute_result"
    }
   ],
   "source": [
    "a.train_neg_adj_mask"
   ]
  },
  {
   "cell_type": "code",
   "execution_count": null,
   "id": "209a62ec-9d70-425e-bed6-e24319ded1bb",
   "metadata": {},
   "outputs": [],
   "source": []
  }
 ],
 "metadata": {
  "kernelspec": {
   "display_name": "Python 3 (ipykernel)",
   "language": "python",
   "name": "python3"
  },
  "language_info": {
   "codemirror_mode": {
    "name": "ipython",
    "version": 3
   },
   "file_extension": ".py",
   "mimetype": "text/x-python",
   "name": "python",
   "nbconvert_exporter": "python",
   "pygments_lexer": "ipython3",
   "version": "3.9.6"
  }
 },
 "nbformat": 4,
 "nbformat_minor": 5
}
