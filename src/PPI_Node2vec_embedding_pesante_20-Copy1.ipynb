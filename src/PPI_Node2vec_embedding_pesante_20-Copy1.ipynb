{
 "cells": [
  {
   "cell_type": "code",
   "execution_count": 14,
   "id": "ca409351-e56a-421e-83ad-0b493a2e4ed9",
   "metadata": {},
   "outputs": [],
   "source": [
    "import pandas as pd\n",
    "import networkx as nx\n",
    "import os.path as osp\n",
    "\n",
    "import torch\n",
    "import torch_geometric\n",
    "from torch_geometric.data import Dataset, download_url\n",
    "from torch_geometric.utils.convert import from_networkx\n",
    "import numpy as np\n",
    "\n",
    "from gensim.models import Word2Vec\n",
    "\n",
    "from torch.nn import Parameter\n",
    "import torch.nn.functional as F\n",
    "from torch_geometric.nn import GCNConv,Linear,RGCNConv,ChebConv\n",
    "from torch_geometric.nn import GAE, Node2Vec,VGAE\n",
    "from torch.utils.tensorboard import SummaryWriter\n",
    "from torch_geometric.nn.models.autoencoder import ARGVA\n",
    "\n",
    "from torch_geometric.transforms import RandomLinkSplit\n",
    "from tqdm import tqdm"
   ]
  },
  {
   "cell_type": "code",
   "execution_count": 2,
   "id": "4306e352-43c7-42af-9222-f16f40044877",
   "metadata": {},
   "outputs": [
    {
     "data": {
      "text/plain": [
       "<torch._C.Generator at 0x1fbc412e5d0>"
      ]
     },
     "execution_count": 2,
     "metadata": {},
     "output_type": "execute_result"
    }
   ],
   "source": [
    "torch.manual_seed(0)"
   ]
  },
  {
   "cell_type": "code",
   "execution_count": 4,
   "id": "3775ace9-a10a-4968-be27-ebb9985d7aec",
   "metadata": {},
   "outputs": [
    {
     "name": "stderr",
     "output_type": "stream",
     "text": [
      "c:\\users\\calni\\appdata\\local\\programs\\python\\python39\\lib\\site-packages\\torch_geometric\\utils\\convert.py:178: UserWarning: Creating a tensor from a list of numpy.ndarrays is extremely slow. Please consider converting the list to a single numpy.ndarray with numpy.array() before converting to a tensor. (Triggered internally at  ..\\torch\\csrc\\utils\\tensor_new.cpp:201.)\n",
      "  data[key] = torch.tensor(value)\n"
     ]
    }
   ],
   "source": [
    "df=pd.read_csv('PPI.csv')\n",
    "G=nx.from_pandas_edgelist(df,'Official Symbol Interactor A','Official Symbol Interactor B' )\n",
    "\n",
    "#load the model\n",
    "model=Word2Vec.load('EMBEDDING_MODEL_FILENAME')\n",
    "x=torch.tensor(model.wv.get_normed_vectors())\n",
    "#x.shape\n",
    "\n",
    "for n in G.nodes():\n",
    "    G.nodes[n]['x']=np.array(model.wv.get_vector(n))\n",
    "    \n",
    "pyg_graph = from_networkx(G)    "
   ]
  },
  {
   "cell_type": "code",
   "execution_count": 5,
   "id": "59f9eab9-3c55-431a-a477-2b1b05d2bd73",
   "metadata": {},
   "outputs": [],
   "source": [
    "transform = RandomLinkSplit(is_undirected=False,split_labels=True,\n",
    "                      neg_sampling_ratio=1.0,\n",
    "                      key = \"edge_label\",\n",
    "                      disjoint_train_ratio=0,\n",
    "                      num_val =0)\n",
    "train_data, val_data, test_data = transform(pyg_graph)"
   ]
  },
  {
   "cell_type": "markdown",
   "id": "d1babe82-5074-4726-bec8-8ab067409f8c",
   "metadata": {
    "jp-MarkdownHeadingCollapsed": true,
    "tags": []
   },
   "source": [
    "## GAE with Linear Decoder (AUC 0.93)"
   ]
  },
  {
   "cell_type": "code",
   "execution_count": 7,
   "id": "e29a35b9-495d-4125-8ab0-066a7c4726ac",
   "metadata": {},
   "outputs": [],
   "source": [
    "class GCNEncoder(torch.nn.Module):\n",
    "    def __init__(self, in_channels, out_channels):\n",
    "        super(GCNEncoder, self).__init__()\n",
    "        self.conv1 = GCNConv(in_channels, 2 * out_channels, cached=True) # cached only for transductive learning\n",
    "        self.conv2 = GCNConv(2 * out_channels, out_channels, cached=True) # cached only for transductive learning\n",
    "\n",
    "    def forward(self, x, edge_index):\n",
    "        x = self.conv1(x, edge_index).relu()\n",
    "        x = self.conv2(x, edge_index)\n",
    "        return x\n",
    "    \n",
    "class GCNDecoder(torch.nn.Module):\n",
    "    def __init__(self, latent_dim):\n",
    "        super(GCNDecoder, self).__init__()\n",
    "        self.lin1 = Linear(latent_dim,latent_dim)\n",
    "        self.lin2 = Linear(latent_dim,latent_dim//2)\n",
    "        self.lin3 = Linear(latent_dim//2,1)\n",
    "\n",
    "    def forward(self, z, edge_index, sigmoid=True):\n",
    "\n",
    "        z = (z[edge_index[0]] * z[edge_index[1]])#.sum(dim=1)\n",
    "        z = self.lin1(z).relu()\n",
    "        z = self.lin2(z).relu()\n",
    "        z = self.lin3(z)\n",
    "        z=z.squeeze()\n",
    "        \n",
    "        return torch.sigmoid(z) if sigmoid else value    "
   ]
  },
  {
   "cell_type": "code",
   "execution_count": 8,
   "id": "275af7c4-d3ba-44f3-bf1d-69c38e889e11",
   "metadata": {},
   "outputs": [],
   "source": [
    "def train(data):\n",
    "    model.train()\n",
    "    optimizer.zero_grad()\n",
    "    z = model.encode(data.x, data.edge_index)\n",
    "    pos_edge_index=data.pos_edge_label_index\n",
    "    neg_edge_index=data.neg_edge_label_index\n",
    "    loss = model.recon_loss(z, pos_edge_index,neg_edge_index) \n",
    "    loss.backward()\n",
    "    optimizer.step()\n",
    "    return float(loss)\n",
    "\n",
    "\n",
    "def test(data):\n",
    "    model.eval()\n",
    "    with torch.no_grad():\n",
    "        z = model.encode(data.x,data.edge_index)\n",
    "        pos_edge_index=data.pos_edge_label_index\n",
    "        neg_edge_index=data.neg_edge_label_index\n",
    "    return model.test(z, pos_edge_index, neg_edge_index)"
   ]
  },
  {
   "cell_type": "code",
   "execution_count": 9,
   "id": "f775d563-3cb2-4be0-9a9e-dc81bf71441e",
   "metadata": {},
   "outputs": [],
   "source": [
    "# parameters\n",
    "out_channels = 20   #embedding \n",
    "num_features = train_data.x.shape[1] \n",
    "epochs = 100\n",
    "\n",
    "\n",
    "device = torch.device('cuda' if torch.cuda.is_available() else 'cpu')\n",
    "\n",
    "# model\n",
    "model = GAE(GCNEncoder(num_features, out_channels),GCNDecoder(out_channels))\n",
    "model = model.to(device)\n",
    "\n",
    "# inizialize the optimizer\n",
    "optimizer = torch.optim.Adam(model.parameters(), lr=0.01)"
   ]
  },
  {
   "cell_type": "code",
   "execution_count": 10,
   "id": "ca732d73-0508-47b4-855b-24a341bbb842",
   "metadata": {},
   "outputs": [
    {
     "name": "stderr",
     "output_type": "stream",
     "text": [
      "100%|████████████████████████████████████████████████████████████████████████████████| 100/100 [05:05<00:00,  3.05s/it]\n"
     ]
    }
   ],
   "source": [
    "writer = SummaryWriter('runs_5/GAE+dec_experiment'+'20d_100_epochs')\n",
    "\n",
    "for epoch in tqdm(range(1, epochs + 1)):\n",
    "    loss = train(train_data)\n",
    "    auc, ap = test(test_data)\n",
    "    #print('Epoch: {:03d}, AUC: {:.4f}, AP: {:.4f}'.format(epoch, auc, ap))\n",
    "    \n",
    "    writer.add_scalar('loss train',loss,epoch)\n",
    "    writer.add_scalar('auc train',auc,epoch) \n",
    "    writer.add_scalar('ap train',ap,epoch) "
   ]
  },
  {
   "cell_type": "markdown",
   "id": "055c0264-7b07-4841-8546-2c8192829bbb",
   "metadata": {
    "jp-MarkdownHeadingCollapsed": true,
    "tags": []
   },
   "source": [
    "## DeepGAE with Linear Decoder"
   ]
  },
  {
   "cell_type": "code",
   "execution_count": 11,
   "id": "b5a81d5e-391e-419e-8940-512211bbab70",
   "metadata": {},
   "outputs": [],
   "source": [
    "class DeepGCNEncoder(torch.nn.Module):\n",
    "    def __init__(self, in_channels, out_channels):\n",
    "        super(DeepGCNEncoder, self).__init__()\n",
    "        self.conv1 = GCNConv(in_channels, 2 * out_channels, cached=True)\n",
    "        self.conv2 = GCNConv(2 * out_channels, 2 * out_channels, cached=True)\n",
    "        self.conv3 = GCNConv(2 * out_channels, out_channels, cached=True)\n",
    "\n",
    "    def forward(self, x, edge_index,edge_weight=None):\n",
    "        x = self.conv1(x, edge_index,edge_weight=edge_weight).relu()\n",
    "        x = self.conv2(x, edge_index,edge_weight=edge_weight).relu()\n",
    "        return self.conv3(x, edge_index,edge_weight=edge_weight)"
   ]
  },
  {
   "cell_type": "code",
   "execution_count": 12,
   "id": "a94ff6ea-9a2c-401b-9ef2-29d9f346b88b",
   "metadata": {},
   "outputs": [],
   "source": [
    "# parameters\n",
    "out_channels = 20   #embedding \n",
    "num_features = train_data.x.shape[1] \n",
    "epochs = 100\n",
    "\n",
    "\n",
    "device = torch.device('cuda' if torch.cuda.is_available() else 'cpu')\n",
    "\n",
    "# model\n",
    "model = GAE(DeepGCNEncoder(num_features, out_channels),GCNDecoder(out_channels))\n",
    "model = model.to(device)\n",
    "\n",
    "# inizialize the optimizer\n",
    "optimizer = torch.optim.Adam(model.parameters(), lr=0.01)"
   ]
  },
  {
   "cell_type": "code",
   "execution_count": 13,
   "id": "a50b04a1-1e23-49c2-befb-31ddf82af664",
   "metadata": {},
   "outputs": [
    {
     "name": "stderr",
     "output_type": "stream",
     "text": [
      "100%|████████████████████████████████████████████████████████████████████████████████| 100/100 [07:13<00:00,  4.33s/it]\n"
     ]
    }
   ],
   "source": [
    "writer = SummaryWriter('runs_5/DeepGAE+dec_experiment'+'20d_100_epochs')\n",
    "\n",
    "for epoch in tqdm(range(1, epochs + 1)):\n",
    "    loss = train(train_data)\n",
    "    auc, ap = test(test_data)\n",
    "    #print('EpoDeprecationWarning: {:03d}, AUC: {:.4f}, AP: {:.4f}'.format(epoch, auc, ap))\n",
    "    \n",
    "    writer.add_scalar('loss train',loss,epoch)\n",
    "    writer.add_scalar('auc train',auc,epoch) \n",
    "    writer.add_scalar('ap train',ap,epoch) "
   ]
  },
  {
   "cell_type": "code",
   "execution_count": null,
   "id": "dd1f631b-9d43-4387-8765-9579514b4754",
   "metadata": {},
   "outputs": [],
   "source": []
  },
  {
   "cell_type": "markdown",
   "id": "c4edc7e1-f091-4b17-937c-c6ba97735820",
   "metadata": {
    "jp-MarkdownHeadingCollapsed": true,
    "tags": []
   },
   "source": [
    "## GAE with ChebConv (K=3 e K=5)"
   ]
  },
  {
   "cell_type": "code",
   "execution_count": 28,
   "id": "354a3aed-18ff-4b2f-ba4d-ec39981ed593",
   "metadata": {},
   "outputs": [],
   "source": [
    "class ChebConvEncoder(torch.nn.Module):\n",
    "    def __init__(self, in_channels, out_channels):\n",
    "        super(ChebConvEncoder, self).__init__()\n",
    "        self.conv1 = ChebConv(in_channels, 2 * out_channels, K=5)  \n",
    "        self.conv2 = ChebConv(2 * out_channels, out_channels, K=5) \n",
    "\n",
    "    def forward(self, x, edge_index):\n",
    "        x = self.conv1(x, edge_index).relu()\n",
    "        x = self.conv2(x, edge_index)\n",
    "        return x\n",
    "    \n",
    "class GCNDecoder(torch.nn.Module):\n",
    "    def __init__(self, latent_dim):\n",
    "        super(GCNDecoder, self).__init__()\n",
    "        self.lin1 = Linear(latent_dim,latent_dim)\n",
    "        self.lin2 = Linear(latent_dim,latent_dim//2)\n",
    "        self.lin3 = Linear(latent_dim//2,1)\n",
    "\n",
    "    def forward(self, z, edge_index, sigmoid=True):\n",
    "\n",
    "        z = (z[edge_index[0]] * z[edge_index[1]])#.sum(dim=1)\n",
    "        z = self.lin1(z).relu()\n",
    "        z = self.lin2(z).relu()\n",
    "        z = self.lin3(z)\n",
    "        z=z.squeeze()\n",
    "        \n",
    "        return torch.sigmoid(z) if sigmoid else value"
   ]
  },
  {
   "cell_type": "code",
   "execution_count": 29,
   "id": "d157310a-f13e-472e-8da6-3615f251add4",
   "metadata": {},
   "outputs": [],
   "source": [
    "# parameters\n",
    "out_channels = 20   #embedding \n",
    "num_features = train_data.x.shape[1] \n",
    "epochs = 100\n",
    "\n",
    "\n",
    "device = torch.device('cuda' if torch.cuda.is_available() else 'cpu')\n",
    "\n",
    "# model\n",
    "model = GAE(ChebConvEncoder(num_features, out_channels),GCNDecoder(out_channels))\n",
    "model = model.to(device)\n",
    "\n",
    "# inizialize the optimizer\n",
    "optimizer = torch.optim.Adam(model.parameters(), lr=0.01)"
   ]
  },
  {
   "cell_type": "code",
   "execution_count": 30,
   "id": "8f9782c1-b7c8-48f8-ac0c-bcb53dd248c0",
   "metadata": {},
   "outputs": [
    {
     "name": "stderr",
     "output_type": "stream",
     "text": [
      "100%|████████████████████████████████████████████████████████████████████████████████| 100/100 [13:26<00:00,  8.06s/it]\n"
     ]
    }
   ],
   "source": [
    "writer = SummaryWriter('runs_5/ChebGAEk5+dec_experiment'+'20d_100_epochs')\n",
    "\n",
    "for epoch in tqdm(range(1, epochs + 1)):\n",
    "    loss = train(train_data)\n",
    "    auc, ap = test(test_data)\n",
    "    #print('EpoDeprecationWarning: {:03d}, AUC: {:.4f}, AP: {:.4f}'.format(epoch, auc, ap))\n",
    "    \n",
    "    writer.add_scalar('loss train',loss,epoch)\n",
    "    writer.add_scalar('auc train',auc,epoch) \n",
    "    writer.add_scalar('ap train',ap,epoch) "
   ]
  },
  {
   "cell_type": "code",
   "execution_count": null,
   "id": "ae97974f-2ad4-4b8c-a61d-820f0da682bd",
   "metadata": {},
   "outputs": [],
   "source": []
  },
  {
   "cell_type": "markdown",
   "id": "b5c9d9f1-d525-4081-a1f6-bb15f29f8d03",
   "metadata": {
    "jp-MarkdownHeadingCollapsed": true,
    "tags": []
   },
   "source": [
    "## DeepGAE with ChebConv"
   ]
  },
  {
   "cell_type": "code",
   "execution_count": 31,
   "id": "230dafb8-5b10-4ed9-979c-e2b8c8dc183d",
   "metadata": {},
   "outputs": [],
   "source": [
    "class DeepChebConvEncoder(torch.nn.Module):\n",
    "    def __init__(self, in_channels, out_channels):\n",
    "        super(DeepChebConvEncoder, self).__init__()\n",
    "        self.conv1 = ChebConv(in_channels, 2 * out_channels,K=3)\n",
    "        self.conv2 = ChebConv(2 * out_channels, 2 * out_channels,K=3)\n",
    "        self.conv3 = ChebConv(2 * out_channels, out_channels,K=3)\n",
    "\n",
    "    def forward(self, x, edge_index,edge_weight=None):\n",
    "        x = self.conv1(x, edge_index,edge_weight=edge_weight).relu()\n",
    "        x = self.conv2(x, edge_index,edge_weight=edge_weight).relu()\n",
    "        return self.conv3(x, edge_index,edge_weight=edge_weight)"
   ]
  },
  {
   "cell_type": "code",
   "execution_count": 32,
   "id": "f3e75130-1460-462c-9735-d5ae64d35831",
   "metadata": {},
   "outputs": [],
   "source": [
    "# parameters\n",
    "out_channels = 20   #embedding \n",
    "num_features = train_data.x.shape[1] \n",
    "epochs = 100\n",
    "\n",
    "\n",
    "device = torch.device('cuda' if torch.cuda.is_available() else 'cpu')\n",
    "\n",
    "# model\n",
    "model = GAE(DeepChebConvEncoder(num_features, out_channels),GCNDecoder(out_channels))\n",
    "model = model.to(device)\n",
    "\n",
    "# inizialize the optimizer\n",
    "optimizer = torch.optim.Adam(model.parameters(), lr=0.01)"
   ]
  },
  {
   "cell_type": "code",
   "execution_count": 33,
   "id": "a38e451d-86ac-4840-b75b-81483b3fb783",
   "metadata": {},
   "outputs": [
    {
     "name": "stderr",
     "output_type": "stream",
     "text": [
      "100%|████████████████████████████████████████████████████████████████████████████████| 100/100 [13:04<00:00,  7.84s/it]\n"
     ]
    }
   ],
   "source": [
    "writer = SummaryWriter('runs_5/DeepChebGAEk5+dec_experiment'+'20d_100_epochs')\n",
    "\n",
    "for epoch in tqdm(range(1, epochs + 1)):\n",
    "    loss = train(train_data)\n",
    "    auc, ap = test(test_data)\n",
    "    #print('EpoDeprecationWarning: {:03d}, AUC: {:.4f}, AP: {:.4f}'.format(epoch, auc, ap))\n",
    "    \n",
    "    writer.add_scalar('loss train',loss,epoch)\n",
    "    writer.add_scalar('auc train',auc,epoch) \n",
    "    writer.add_scalar('ap train',ap,epoch) "
   ]
  },
  {
   "cell_type": "code",
   "execution_count": null,
   "id": "ca21d3bb-c226-400a-8f3f-a6f883cd5b46",
   "metadata": {},
   "outputs": [],
   "source": []
  }
 ],
 "metadata": {
  "kernelspec": {
   "display_name": "Python 3 (ipykernel)",
   "language": "python",
   "name": "python3"
  },
  "language_info": {
   "codemirror_mode": {
    "name": "ipython",
    "version": 3
   },
   "file_extension": ".py",
   "mimetype": "text/x-python",
   "name": "python",
   "nbconvert_exporter": "python",
   "pygments_lexer": "ipython3",
   "version": "3.9.6"
  }
 },
 "nbformat": 4,
 "nbformat_minor": 5
}
